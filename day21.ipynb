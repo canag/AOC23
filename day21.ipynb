{
 "cells": [
  {
   "cell_type": "code",
   "execution_count": 1,
   "metadata": {},
   "outputs": [
    {
     "name": "stderr",
     "output_type": "stream",
     "text": [
      "  % Total    % Received % Xferd  Average Speed   Time    Time     Time  Current\n",
      "                                 Dload  Upload   Total   Spent    Left  Speed\n",
      "100 17292  100 17292    0     0   3018      0  0:00:05  0:00:05 --:--:--  4115\n",
      "  % Total    % Received % Xferd  Average Speed   Time    Time     Time  Current\n",
      "                                 Dload  Upload   Total   Spent    Left  Speed\n",
      "100  7973    0  7973    0     0   1529      0 --:--:--  0:00:05 --:--:--  1930\n"
     ]
    },
    {
     "data": {
      "text/plain": [
       "(131, 11)"
      ]
     },
     "execution_count": 1,
     "metadata": {},
     "output_type": "execute_result"
    }
   ],
   "source": [
    "from tools import get_input\n",
    "import numpy as np\n",
    "from scipy import sparse\n",
    "\n",
    "data, data_test = get_input(21)\n",
    "len(data), len(data_test)"
   ]
  },
  {
   "cell_type": "code",
   "execution_count": 11,
   "metadata": {},
   "outputs": [
    {
     "name": "stdout",
     "output_type": "stream",
     "text": [
      "Done for M 188\n"
     ]
    },
    {
     "name": "stderr",
     "output_type": "stream",
     "text": [
      "/anaconda3/envs/py312/lib/python3.12/site-packages/scipy/sparse/_index.py:100: SparseEfficiencyWarning: Changing the sparsity structure of a csr_matrix is expensive. lil_matrix is more efficient.\n",
      "  self._set_intXint(row, col, x.flat[0])\n"
     ]
    },
    {
     "data": {
      "text/plain": [
       "16"
      ]
     },
     "execution_count": 11,
     "metadata": {},
     "output_type": "execute_result"
    }
   ],
   "source": [
    "L = data_test\n",
    "\n",
    "def find_S(L):\n",
    "    Nrows = len(L)\n",
    "    Ncols = len(L[0])\n",
    "    for i in range(Nrows):\n",
    "        for j in range(Ncols):\n",
    "            if L[i][j] == 'S':\n",
    "                return i, j\n",
    "\n",
    "def build_AM(L):\n",
    "    Nrows = len(L)\n",
    "    Ncols = len(L[0])\n",
    "    M = sparse.csr_matrix((Nrows*Ncols, Nrows*Ncols), dtype=np.int8)\n",
    "    for i in range(Nrows):\n",
    "        for j in range(Ncols):\n",
    "            k = i*Ncols + j\n",
    "            if L[i][j] == '#':\n",
    "                continue\n",
    "            for (ii, jj) in [(i-1, j), (i+1, j), (i, j-1), (i, j+1)]:\n",
    "                if 0 <= ii < Nrows and 0 <= jj < Ncols and L[ii][jj] != '#':\n",
    "                    kk = ii*Ncols + jj\n",
    "                    M[k, kk] = 1\n",
    "    return M\n",
    "\n",
    "si, sj = find_S(L)\n",
    "M = build_AM(L)\n",
    "print(\"Done for M\", M.count_nonzero())\n",
    "M6 = M**6\n",
    "np.sum(M6[si*len(L[0])+sj, :]>0)"
   ]
  },
  {
   "cell_type": "code",
   "execution_count": null,
   "metadata": {},
   "outputs": [],
   "source": [
    "M2 = M@M\n",
    "print(\"Done for M2\", M2.count_nonzero())\n",
    "M4 = M2@M2\n",
    "print(\"Done for M4\", M4.count_nonzero())\n",
    "M8 = M4@M4\n",
    "print(\"Done for M8\", M8.count_nonzero())\n",
    "M16 = M8@M8\n",
    "print(\"Done for M16\", M16.count_nonzero())\n",
    "M32 = M16@M16\n",
    "print(\"Done for M32\", M32.count_nonzero())\n",
    "M64 = M32@M32\n",
    "print(\"Done for M64\", M64.count_nonzero())\n",
    "np.sum(M64[si*len(L[0])+sj, :]>0)"
   ]
  },
  {
   "cell_type": "code",
   "execution_count": null,
   "metadata": {},
   "outputs": [],
   "source": []
  }
 ],
 "metadata": {
  "kernelspec": {
   "display_name": "py312",
   "language": "python",
   "name": "python3"
  },
  "language_info": {
   "codemirror_mode": {
    "name": "ipython",
    "version": 3
   },
   "file_extension": ".py",
   "mimetype": "text/x-python",
   "name": "python",
   "nbconvert_exporter": "python",
   "pygments_lexer": "ipython3",
   "version": "3.12.0"
  }
 },
 "nbformat": 4,
 "nbformat_minor": 2
}
