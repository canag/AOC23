{
 "cells": [
  {
   "cell_type": "code",
   "execution_count": 1,
   "metadata": {},
   "outputs": [
    {
     "name": "stderr",
     "output_type": "stream",
     "text": [
      "  % Total    % Received % Xferd  Average Speed   Time    Time     Time  Current\n",
      "                                 Dload  Upload   Total   Spent    Left  Speed\n",
      "100  5976  100  5976    0     0  15450      0 --:--:-- --:--:-- --:--:-- 15441\n",
      "  % Total    % Received % Xferd  Average Speed   Time    Time     Time  Current\n",
      "                                 Dload  Upload   Total   Spent    Left  Speed\n",
      "100 10526    0 10526    0     0  28974      0 --:--:-- --:--:-- --:--:-- 28997\n"
     ]
    }
   ],
   "source": [
    "from tools import read, get_input\n",
    "\n",
    "L = get_input(5, False)"
   ]
  },
  {
   "cell_type": "code",
   "execution_count": 2,
   "metadata": {},
   "outputs": [
    {
     "name": "stdout",
     "output_type": "stream",
     "text": [
      "seed-to-soil map:\n",
      "soil-to-fertilizer map:\n",
      "fertilizer-to-water map:\n",
      "water-to-light map:\n",
      "light-to-temperature map:\n",
      "temperature-to-humidity map:\n",
      "humidity-to-location map:\n"
     ]
    },
    {
     "data": {
      "text/plain": [
       "323142486"
      ]
     },
     "execution_count": 2,
     "metadata": {},
     "output_type": "execute_result"
    }
   ],
   "source": [
    "parts = \"\\n\".join(L).split(\"\\n\\n\")\n",
    "seeds = [int(s) for s in parts[0].split(\":\")[1].strip().split()]\n",
    "for section in parts[1:]:\n",
    "    print(section.split(\"\\n\")[0])\n",
    "    for i, s in enumerate(seeds):\n",
    "        for line in section.split(\"\\n\")[1:]:\n",
    "            a, b, c = [int(s) for s in line.split()]\n",
    "            if s>=b and s<b+c:\n",
    "                seeds[i] = a+s-b\n",
    "\n",
    "min(seeds)"
   ]
  },
  {
   "cell_type": "code",
   "execution_count": 3,
   "metadata": {},
   "outputs": [
    {
     "name": "stderr",
     "output_type": "stream",
     "text": [
      "  % Total    % Received % Xferd  Average Speed   Time    Time     Time  Current\n",
      "                                 Dload  Upload   Total   Spent    Left  Speed\n",
      "100  5976  100  5976    0     0  16155      0 --:--:-- --:--:-- --:--:-- 16151\n",
      "  % Total    % Received % Xferd  Average Speed   Time    Time     Time  Current\n",
      "                                 Dload  Upload   Total   Spent    Left  Speed\n",
      "  0     0    0     0    0     0      0      0 --:--:-- --:--:-- --:--:--     0"
     ]
    },
    {
     "name": "stdout",
     "output_type": "stream",
     "text": [
      "27\n",
      "seed-to-soil map:\n",
      "soil-to-fertilizer map:\n",
      "fertilizer-to-water map:\n",
      "water-to-light map:\n",
      "light-to-temperature map:\n",
      "temperature-to-humidity map:\n",
      "humidity-to-location map:\n"
     ]
    },
    {
     "name": "stderr",
     "output_type": "stream",
     "text": [
      "100 10478    0 10478    0     0  30186      0 --:--:-- --:--:-- --:--:-- 30195\n"
     ]
    },
    {
     "data": {
      "text/plain": [
       "46"
      ]
     },
     "execution_count": 3,
     "metadata": {},
     "output_type": "execute_result"
    }
   ],
   "source": [
    "L = get_input(5, True)\n",
    "parts = \"\\n\".join(L).split(\"\\n\\n\")\n",
    "preseeds = [int(s) for s in parts[0].split(\":\")[1].strip().split()]\n",
    "N = len(preseeds)\n",
    "seeds= []\n",
    "for i in range(int(N/2)):\n",
    "    seeds += list(range(preseeds[2*i], preseeds[2*i]+preseeds[2*i+1]))\n",
    "print(len(seeds))\n",
    "for section in parts[1:]:\n",
    "    print(section.split(\"\\n\")[0])\n",
    "    for i, s in enumerate(seeds):\n",
    "        for line in section.split(\"\\n\")[1:]:\n",
    "            a, b, c = [int(s) for s in line.split()]\n",
    "            if s>=b and s<b+c:\n",
    "                seeds[i] = a+s-b\n",
    "\n",
    "min(seeds)"
   ]
  },
  {
   "cell_type": "code",
   "execution_count": 5,
   "metadata": {},
   "outputs": [
    {
     "name": "stderr",
     "output_type": "stream",
     "text": [
      "  % Total    % Received % Xferd  Average Speed   Time    Time     Time  Current\n",
      "                                 Dload  Upload   Total   Spent    Left  Speed\n",
      "100  5976  100  5976    0     0  17173      0 --:--:-- --:--:-- --:--:-- 17172\n",
      "  % Total    % Received % Xferd  Average Speed   Time    Time     Time  Current\n",
      "                                 Dload  Upload   Total   Spent    Left  Speed\n",
      "100 10455    0 10455    0     0  30950      0 --:--:-- --:--:-- --:--:-- 31023\n"
     ]
    },
    {
     "data": {
      "text/plain": [
       "[(79, 14), (55, 13)]"
      ]
     },
     "execution_count": 5,
     "metadata": {},
     "output_type": "execute_result"
    }
   ],
   "source": [
    "L = get_input(5, True)\n",
    "parts = \"\\n\".join(L).split(\"\\n\\n\")\n",
    "preseeds = [int(s) for s in parts[0].split(\":\")[1].strip().split()]\n",
    "N = len(preseeds)\n",
    "seeds= []\n",
    "for i in range(int(N/2)):\n",
    "    seeds += [(preseeds[2*i], preseeds[2*i+1])]\n",
    "seeds"
   ]
  },
  {
   "cell_type": "code",
   "execution_count": null,
   "metadata": {},
   "outputs": [],
   "source": [
    "def pass_range(s, t):\n",
    "    # a: ystart, b: xstart, c: length\n",
    "    start, length = s\n",
    "    a, b, c = t\n",
    "    # only change for values in [ b, b+c [ by shift a-b\n",
    "    # smallest x is start, largest is start+length-1\n",
    "    if start>=b+c: # all on the right\n",
    "        return [s]\n",
    "    if start+length-1<b: # all on the left\n",
    "        return [s]\n",
    "    if start>=b and start+length-1<b+c: # all in the middle\n",
    "        return [(start+a-b, length)]\n",
    "    if start<b: # left and middle (maybe right)\n",
    "        s1 = (start, b-start)\n",
    "        s2 = pass_range(, t)\n",
    "        return [s1, s2]\n",
    "    if start+length-1>=b+c: # middle and right (maybe left)\n",
    "        s1 = (start, b+c-start)\n",
    "        s2 = pass_range(, t)\n",
    "        return [s1, s2]\n",
    "    "
   ]
  }
 ],
 "metadata": {
  "kernelspec": {
   "display_name": "py312",
   "language": "python",
   "name": "python3"
  },
  "language_info": {
   "codemirror_mode": {
    "name": "ipython",
    "version": 3
   },
   "file_extension": ".py",
   "mimetype": "text/x-python",
   "name": "python",
   "nbconvert_exporter": "python",
   "pygments_lexer": "ipython3",
   "version": "3.12.0"
  }
 },
 "nbformat": 4,
 "nbformat_minor": 2
}
