{
 "cells": [
  {
   "cell_type": "code",
   "execution_count": 1,
   "metadata": {},
   "outputs": [
    {
     "name": "stderr",
     "output_type": "stream",
     "text": [
      "  % Total    % Received % Xferd  Average Speed   Time    Time     Time  Current\n",
      "                                 Dload  Upload   Total   Spent    Left  Speed\n",
      "100  5976  100  5976    0     0  16465      0 --:--:-- --:--:-- --:--:-- 16508\n",
      "  % Total    % Received % Xferd  Average Speed   Time    Time     Time  Current\n",
      "                                 Dload  Upload   Total   Spent    Left  Speed\n",
      "100 10452    0 10452    0     0  28385      0 --:--:-- --:--:-- --:--:-- 28325\n"
     ]
    },
    {
     "data": {
      "text/plain": [
       "(201, 33)"
      ]
     },
     "execution_count": 1,
     "metadata": {},
     "output_type": "execute_result"
    }
   ],
   "source": [
    "from tools import read, get_input\n",
    "\n",
    "data, data_test = get_input(5)\n",
    "len(data), len(data_test)"
   ]
  },
  {
   "cell_type": "markdown",
   "metadata": {},
   "source": [
    "### Part 1"
   ]
  },
  {
   "cell_type": "code",
   "execution_count": 2,
   "metadata": {},
   "outputs": [
    {
     "name": "stdout",
     "output_type": "stream",
     "text": [
      "seed-to-soil map:\n",
      "soil-to-fertilizer map:\n",
      "fertilizer-to-water map:\n",
      "water-to-light map:\n",
      "light-to-temperature map:\n",
      "temperature-to-humidity map:\n",
      "humidity-to-location map:\n"
     ]
    },
    {
     "data": {
      "text/plain": [
       "323142486"
      ]
     },
     "execution_count": 2,
     "metadata": {},
     "output_type": "execute_result"
    }
   ],
   "source": [
    "L = data\n",
    "parts = \"\\n\".join(L).split(\"\\n\\n\")\n",
    "seeds = [int(s) for s in parts[0].split(\":\")[1].strip().split()]\n",
    "for section in parts[1:]:\n",
    "    print(section.split(\"\\n\")[0])\n",
    "    for i, s in enumerate(seeds):\n",
    "        for line in section.split(\"\\n\")[1:]:\n",
    "            a, b, c = [int(s) for s in line.split()]\n",
    "            if s>=b and s<b+c:\n",
    "                seeds[i] = a+s-b\n",
    "\n",
    "min(seeds)"
   ]
  },
  {
   "cell_type": "markdown",
   "metadata": {},
   "source": [
    "## Part 2"
   ]
  },
  {
   "cell_type": "code",
   "execution_count": 3,
   "metadata": {},
   "outputs": [
    {
     "name": "stdout",
     "output_type": "stream",
     "text": [
      "27\n",
      "seed-to-soil map:\n",
      "soil-to-fertilizer map:\n",
      "fertilizer-to-water map:\n",
      "water-to-light map:\n",
      "light-to-temperature map:\n",
      "temperature-to-humidity map:\n",
      "humidity-to-location map:\n"
     ]
    },
    {
     "data": {
      "text/plain": [
       "46"
      ]
     },
     "execution_count": 3,
     "metadata": {},
     "output_type": "execute_result"
    }
   ],
   "source": [
    "# simple but not fast enough\n",
    "L = data_test\n",
    "parts = \"\\n\".join(L).split(\"\\n\\n\")\n",
    "preseeds = [int(s) for s in parts[0].split(\":\")[1].strip().split()]\n",
    "N = len(preseeds)\n",
    "seeds= []\n",
    "for i in range(int(N/2)):\n",
    "    seeds += list(range(preseeds[2*i], preseeds[2*i]+preseeds[2*i+1]))\n",
    "print(len(seeds))\n",
    "for section in parts[1:]:\n",
    "    print(section.split(\"\\n\")[0])\n",
    "    for i, s in enumerate(seeds):\n",
    "        for line in section.split(\"\\n\")[1:]:\n",
    "            a, b, c = [int(s) for s in line.split()]\n",
    "            if s>=b and s<b+c:\n",
    "                seeds[i] = a+s-b\n",
    "\n",
    "min(seeds)"
   ]
  },
  {
   "cell_type": "code",
   "execution_count": 34,
   "metadata": {},
   "outputs": [
    {
     "name": "stdout",
     "output_type": "stream",
     "text": [
      "seed-to-soil map:\n",
      "soil-to-fertilizer map:\n",
      "fertilizer-to-water map:\n",
      "water-to-light map:\n",
      "light-to-temperature map:\n",
      "temperature-to-humidity map:\n",
      "humidity-to-location map:\n"
     ]
    },
    {
     "data": {
      "text/plain": [
       "79874951"
      ]
     },
     "execution_count": 34,
     "metadata": {},
     "output_type": "execute_result"
    }
   ],
   "source": [
    "def pass_range(s, Lt):\n",
    "    if len(Lt)==0:\n",
    "        return [s]\n",
    "    # a: ystart, b: xstart, c: length\n",
    "    start, length = s\n",
    "    end = start+length-1\n",
    "    a, b, c = Lt[0]\n",
    "    xa = b\n",
    "    xb = b+c-1\n",
    "    shift = a-b\n",
    "    if start>xb: # all on the right\n",
    "        return pass_range(s, Lt[1:])\n",
    "    if end<xa: # all on the left\n",
    "        return pass_range(s, Lt[1:])\n",
    "    if start>=xa and end<=xb: # all in the middle\n",
    "        #print(\"middle\", s)\n",
    "        return [(start+shift, length)]\n",
    "    if start<xa: # left and middle (maybe right)\n",
    "        #print(\"left and middle\", s)\n",
    "        return pass_range((xa, length-(xa-start)), Lt) + pass_range((start, xa-start), Lt[1:])\n",
    "    if end>xb: # middle and right (maybe left)\n",
    "        #print(\"middle and right\", s)\n",
    "        return pass_range((start, xb+1-start), Lt) + pass_range((xb+1, length-(xb+1-start)), Lt[1:])\n",
    "    \n",
    "L = data\n",
    "parts = \"\\n\".join(L).split(\"\\n\\n\")\n",
    "preseeds = [int(s) for s in parts[0].split(\":\")[1].strip().split()]\n",
    "N = len(preseeds)\n",
    "seeds= []\n",
    "for i in range(int(N/2)):\n",
    "    seeds += [(preseeds[2*i], preseeds[2*i+1])]\n",
    "\n",
    "for section in parts[1:]:\n",
    "    #print(section.split(\"\\n\")[0])\n",
    "    new_seeds = []\n",
    "    for i, s in enumerate(seeds):\n",
    "        lines = section.split(\"\\n\")[1:]\n",
    "        Lt = [[int(u) for u in line.split()] for line in lines]\n",
    "        #print(s, Lt)\n",
    "        new_seeds += pass_range(s, Lt)\n",
    "    seeds = new_seeds\n",
    "    #print(seeds)\n",
    "min([s[0] for s in seeds])"
   ]
  },
  {
   "cell_type": "code",
   "execution_count": null,
   "metadata": {},
   "outputs": [],
   "source": []
  }
 ],
 "metadata": {
  "kernelspec": {
   "display_name": "py312",
   "language": "python",
   "name": "python3"
  },
  "language_info": {
   "codemirror_mode": {
    "name": "ipython",
    "version": 3
   },
   "file_extension": ".py",
   "mimetype": "text/x-python",
   "name": "python",
   "nbconvert_exporter": "python",
   "pygments_lexer": "ipython3",
   "version": "3.12.0"
  }
 },
 "nbformat": 4,
 "nbformat_minor": 2
}
