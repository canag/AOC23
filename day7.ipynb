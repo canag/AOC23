{
 "cells": [
  {
   "cell_type": "code",
   "execution_count": 77,
   "metadata": {},
   "outputs": [
    {
     "data": {
      "text/plain": [
       "(1000, 5)"
      ]
     },
     "execution_count": 77,
     "metadata": {},
     "output_type": "execute_result"
    }
   ],
   "source": [
    "from tools import get_input\n",
    "from operator import itemgetter\n",
    "\n",
    "data, data_test = get_input(7)\n",
    "len(data), len(data_test)"
   ]
  },
  {
   "cell_type": "markdown",
   "metadata": {},
   "source": [
    "### Part 1"
   ]
  },
  {
   "cell_type": "code",
   "execution_count": 53,
   "metadata": {},
   "outputs": [
    {
     "data": {
      "text/plain": [
       "253205868"
      ]
     },
     "execution_count": 53,
     "metadata": {},
     "output_type": "execute_result"
    }
   ],
   "source": [
    "L = data\n",
    "\n",
    "d = {\n",
    "    (5,): 6,\n",
    "    (1, 4): 5,\n",
    "    (2, 3): 4,\n",
    "    (1, 1, 3): 3,\n",
    "    (1, 2, 2): 2,\n",
    "    (1, 1, 1, 2): 1,\n",
    "    (1, 1, 1, 1, 1): 0\n",
    "    }\n",
    "\n",
    "dd = {'T': '10', 'J': '11', 'Q': '12', 'K': '13', 'A': '14'}\n",
    "\n",
    "levels = {}\n",
    "bids = {}\n",
    "\n",
    "for line in L:\n",
    "    s = line.split()[0]\n",
    "    id = tuple([int(dd.get(c, c)) for c in s])\n",
    "    res = tuple(sorted([s.count(c) for c in set(s)]))\n",
    "    levels[id] = d[res]\n",
    "    bids[id] = int(line.split()[1])\n",
    "\n",
    "rank = 1\n",
    "ranks = {}\n",
    "for v in set(sorted(levels.values())):\n",
    "    cards = [k for k in levels.keys() if levels[k] == v]\n",
    "    #print(v, cards)\n",
    "    sorted_subset = sorted([[int(dd.get(c, c)) for c in card] for card in cards], key=itemgetter(0, 1, 2, 3, 4))\n",
    "    #print(sorted_subset)\n",
    "    for card in sorted_subset:\n",
    "        ranks[tuple(card)] = rank\n",
    "        rank += 1\n",
    "\n",
    "S = 0\n",
    "for id in ranks.keys():\n",
    "    S += ranks[id] * bids[id]\n",
    "S"
   ]
  },
  {
   "cell_type": "markdown",
   "metadata": {},
   "source": [
    "### Part 2"
   ]
  },
  {
   "cell_type": "code",
   "execution_count": 82,
   "metadata": {},
   "outputs": [
    {
     "data": {
      "text/plain": [
       "253907829"
      ]
     },
     "execution_count": 82,
     "metadata": {},
     "output_type": "execute_result"
    }
   ],
   "source": [
    "L = data\n",
    "dd = {'T': '10', 'J': '0', 'Q': '12', 'K': '13', 'A': '14'}\n",
    "levels = {}\n",
    "bids = {}\n",
    "\n",
    "for line in L:\n",
    "    s = line.split()[0]\n",
    "    nj = s.count('J')\n",
    "    id = tuple([int(dd.get(c, c)) for c in s])\n",
    "    res = sorted([s.count(c) for c in set(s)])\n",
    "    if nj==5:\n",
    "       pass\n",
    "    elif nj>0:\n",
    "        res.remove(nj)\n",
    "        m = max(res)\n",
    "        res.remove(m)\n",
    "        res.append(m+nj)\n",
    "    levels[id] = d[tuple(res)]\n",
    "    bids[id] = int(line.split()[1])\n",
    "    #print(id, res, levels[id], bids[id])\n",
    "\n",
    "rank = 1\n",
    "ranks = {}\n",
    "for v in set(sorted(levels.values())):\n",
    "    cards = [k for k in levels.keys() if levels[k] == v]\n",
    "    #print(v, cards)\n",
    "    sorted_subset = sorted([[int(dd.get(c, c)) for c in card] for card in cards], key=itemgetter(0, 1, 2, 3, 4))\n",
    "    #print(sorted_subset)\n",
    "    for card in sorted_subset:\n",
    "        ranks[tuple(card)] = rank\n",
    "        rank += 1\n",
    "\n",
    "S = 0\n",
    "for id in ranks.keys():\n",
    "    S += ranks[id] * bids[id]\n",
    "S"
   ]
  },
  {
   "cell_type": "code",
   "execution_count": null,
   "metadata": {},
   "outputs": [],
   "source": []
  }
 ],
 "metadata": {
  "kernelspec": {
   "display_name": "py311",
   "language": "python",
   "name": "python3"
  },
  "language_info": {
   "codemirror_mode": {
    "name": "ipython",
    "version": 3
   },
   "file_extension": ".py",
   "mimetype": "text/x-python",
   "name": "python",
   "nbconvert_exporter": "python",
   "pygments_lexer": "ipython3",
   "version": "3.11.5"
  }
 },
 "nbformat": 4,
 "nbformat_minor": 2
}
