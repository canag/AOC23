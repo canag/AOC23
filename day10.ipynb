{
 "cells": [
  {
   "cell_type": "code",
   "execution_count": 44,
   "metadata": {},
   "outputs": [
    {
     "name": "stdout",
     "output_type": "stream",
     "text": [
      "FF7FSF7F7F7F7F7F---7\n",
      "L|LJ||||||||||||F--J\n",
      "FL-7LJLJ||||||LJL-77\n",
      "F--JF--7||LJLJ7F7FJ-\n",
      "L---JF-JLJ.||-FJLJJ7\n",
      "|F|F-JF---7F7-L7L|7|\n",
      "|FFJF7L7F-JF7|JL---7\n",
      "7-L-JL7||F7|L7F-7F7|\n",
      "L.L7LFJ|||||FJL7||LJ\n",
      "L7JLJL-JLJLJL--JLJ.L\n"
     ]
    }
   ],
   "source": [
    "from tools import get_input\n",
    "\n",
    "data, data_test = get_input(10, 14, part=2)\n",
    "len(data), len(data_test)\n",
    "\n",
    "L = data_test\n",
    "for line in L:\n",
    "    print(line)"
   ]
  },
  {
   "cell_type": "markdown",
   "metadata": {},
   "source": [
    "### Part 1"
   ]
  },
  {
   "cell_type": "code",
   "execution_count": 55,
   "metadata": {},
   "outputs": [
    {
     "name": "stdout",
     "output_type": "stream",
     "text": [
      "6697\n"
     ]
    }
   ],
   "source": [
    "L = data\n",
    "\n",
    "nodes = set()\n",
    "for i, line in enumerate(L):\n",
    "    for j, c in enumerate(line):\n",
    "        if c != '.':\n",
    "            nodes.add((i, j))\n",
    "            if c== \"S\":\n",
    "                start = (i, j)\n",
    "\n",
    "i, j = start\n",
    "loop = [start]\n",
    "\n",
    "# find first next node to start\n",
    "neighbours = [(i+1, j), (i-1, j), (i, j+1), (i, j-1)]\n",
    "for nei in neighbours:\n",
    "    direction = nei[0] - i, nei[1] - j\n",
    "    if L[nei[0]][nei[1]] == '-' and direction[0]==0:\n",
    "        next_node = nei\n",
    "        break\n",
    "    elif L[nei[0]][nei[1]] == '|' and direction[1]==0:\n",
    "        next_node = nei\n",
    "        break\n",
    "    elif L[nei[0]][nei[1]] == 'J' and direction in [(1, 0), (0, 1)]:\n",
    "        next_node = nei\n",
    "        break\n",
    "    elif L[nei[0]][nei[1]] == 'L' and direction in [(1, 0), (0, -1)]:\n",
    "        next_node = nei\n",
    "        break\n",
    "    elif L[nei[0]][nei[1]] == '7' and direction in [(-1, 0), (0, 1)]:\n",
    "        next_node = nei\n",
    "        break\n",
    "    elif L[nei[0]][nei[1]] == 'F' and direction in [(-1, 0), (0, -1)]:\n",
    "        next_node = nei\n",
    "        break\n",
    "initial_direction = direction\n",
    "\n",
    "while next_node not in loop:\n",
    "    loop.append(next_node)\n",
    "    i, j = next_node\n",
    "    if L[i][j] == '|':\n",
    "        next_node = (i+direction[0], j)\n",
    "    elif L[i][j] == '-':\n",
    "        next_node = (i, j+direction[1])\n",
    "    elif L[i][j] == 'J': \n",
    "        # direction is (1, 0) for coming from up or (0, 1) for coming from left\n",
    "        # next direction is (0, -1) or (-1, 0) respectively\n",
    "        direction = -direction[1], -direction[0]\n",
    "        next_node = (i+direction[0], j+direction[1])\n",
    "    elif L[i][j] == 'L':\n",
    "        # direction is (1, 0) for coming from up or (0, -1) for coming from right\n",
    "        # next direction is (0, 1) or (-1, 0) respectively\n",
    "        direction = direction[1], direction[0]\n",
    "        next_node = (i+direction[0], j+direction[1])\n",
    "    elif L[i][j] == '7':\n",
    "        # direction is (-1, 0) for coming from down or (0, 1) for coming from left\n",
    "        # next direction is (0, -1) or (1, 0) respectively\n",
    "        direction = direction[1], direction[0]\n",
    "        next_node = (i+direction[0], j+direction[1])\n",
    "    elif L[i][j] == 'F':\n",
    "        # direction is (-1, 0) for coming from down or (0, -1) for coming from right\n",
    "        # next direction is (0, 1) or (1, 0) respectively\n",
    "        direction = -direction[1], -direction[0]\n",
    "        next_node = (i+direction[0], j+direction[1])\n",
    "final_direction = direction\n",
    "    \n",
    "print(int(len(loop)/2))"
   ]
  },
  {
   "cell_type": "markdown",
   "metadata": {},
   "source": [
    "### Part 2"
   ]
  },
  {
   "cell_type": "code",
   "execution_count": 56,
   "metadata": {},
   "outputs": [],
   "source": [
    "# replace starting position by the right character\n",
    "\n",
    "i, j = start\n",
    "if (initial_direction, final_direction) in [((0, 1), (-1, 0)), ((1, 0), (0, -1))]:\n",
    "    L[i] = L[i][:j] + 'F' + L[i][j+1:]\n",
    "elif (initial_direction, final_direction) in [((0, -1), (-1, 0)), ((1, 0), (0, 1))]:\n",
    "    L[i] = L[i][:j] + '7' + L[i][j+1:]\n",
    "elif (initial_direction, final_direction) in [((-1, 0), (0, 1)), ((0, -1), (1, 0))]:\n",
    "    L[i] = L[i][:j] + 'J' + L[i][j+1:]\n",
    "elif (initial_direction, final_direction) in [((-1, 0), (0, -1)), ((0, 1), (1, 0))]:\n",
    "    L[i] = L[i][:j] + 'L' + L[i][j+1:]\n",
    "elif (initial_direction, final_direction) in [((1, 0), (1, 0)), ((-1, 0), (-1, 0))]:\n",
    "    L[i] = L[i][:j] + '|' + L[i][j+1:]\n",
    "elif (initial_direction, final_direction) in [((0, 1), (0, 1)), ((0, -1), (0, -1))]:\n",
    "    L[i] = L[i][:j] + '-' + L[i][j+1:]\n",
    "else:\n",
    "    print(\"error\")"
   ]
  },
  {
   "cell_type": "code",
   "execution_count": 57,
   "metadata": {},
   "outputs": [
    {
     "name": "stdout",
     "output_type": "stream",
     "text": [
      "423\n"
     ]
    }
   ],
   "source": [
    "# Part 2\n",
    "S = 0\n",
    "for i, line in enumerate(L):\n",
    "    for j, c in enumerate(line):\n",
    "        if (i,j) not in loop:\n",
    "            if sum([(i,jj) in loop for jj in range(j) if L[i][jj] in {'|', 'L', 'J'}]) % 2 == 1:\n",
    "                if sum([(i,jj) in loop for jj in range(j+1, len(line)) if L[i][jj] in {'|', 'L', 'J'}]) % 2 == 1:\n",
    "                    if sum([(ii,j) in loop for ii in range(i) if L[ii][j] in {'-', 'F', 'L'}]) % 2 == 1:\n",
    "                        if sum([(ii,j) in loop for ii in range(i+1, len(L)) if L[ii][j] in {'-', 'F', 'L'}]) % 2 == 1:\n",
    "                            S += 1\n",
    "print(S)"
   ]
  },
  {
   "cell_type": "code",
   "execution_count": 58,
   "metadata": {},
   "outputs": [
    {
     "name": "stdout",
     "output_type": "stream",
     "text": [
      "423\n"
     ]
    }
   ],
   "source": [
    "# faster and smarter\n",
    "S = 0\n",
    "for i, line in enumerate(L):\n",
    "    inside = False\n",
    "    for j, c in enumerate(line):\n",
    "        if (i,j) in loop:\n",
    "            if c in {'|', 'L', 'J'}:\n",
    "                inside = not inside\n",
    "        else:\n",
    "            if inside:\n",
    "                S += 1\n",
    "print(S)"
   ]
  },
  {
   "cell_type": "code",
   "execution_count": null,
   "metadata": {},
   "outputs": [],
   "source": []
  }
 ],
 "metadata": {
  "kernelspec": {
   "display_name": "py312",
   "language": "python",
   "name": "python3"
  },
  "language_info": {
   "codemirror_mode": {
    "name": "ipython",
    "version": 3
   },
   "file_extension": ".py",
   "mimetype": "text/x-python",
   "name": "python",
   "nbconvert_exporter": "python",
   "pygments_lexer": "ipython3",
   "version": "3.11.5"
  }
 },
 "nbformat": 4,
 "nbformat_minor": 2
}
