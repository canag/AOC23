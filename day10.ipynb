{
 "cells": [
  {
   "cell_type": "code",
   "execution_count": 35,
   "metadata": {},
   "outputs": [
    {
     "name": "stderr",
     "output_type": "stream",
     "text": [
      "  % Total    % Received % Xferd  Average Speed   Time    Time     Time  Current\n",
      "                                 Dload  Upload   Total   Spent    Left  Speed\n",
      "100 19740  100 19740    0     0  42580      0 --:--:-- --:--:-- --:--:-- 42543\n",
      "  % Total    % Received % Xferd  Average Speed   Time    Time     Time  Current\n",
      "                                 Dload  Upload   Total   Spent    Left  Speed\n",
      "100 13280    0 13280    0     0  31537      0 --:--:-- --:--:-- --:--:-- 31543\n"
     ]
    },
    {
     "data": {
      "text/plain": [
       "(140, 10)"
      ]
     },
     "execution_count": 35,
     "metadata": {},
     "output_type": "execute_result"
    }
   ],
   "source": [
    "from tools import get_input\n",
    "\n",
    "data, data_test = get_input(10, 12, part=2)\n",
    "len(data), len(data_test)"
   ]
  },
  {
   "cell_type": "code",
   "execution_count": 36,
   "metadata": {},
   "outputs": [
    {
     "name": "stdout",
     "output_type": "stream",
     "text": [
      ".F----7F7F7F7F-7....\n",
      ".|F--7||||||||FJ....\n",
      ".||.FJ||||||||L7....\n",
      "FJL7L7LJLJ||LJ.L-7..\n",
      "L--J.L7...LJS7F-7L7.\n",
      "....F-J..F7FJ|L7L7L7\n",
      "....L7.F7||L7|.L7L7|\n",
      ".....|FJLJ|FJ|F7|.LJ\n",
      "....FJL-7.||.||||...\n",
      "....L---J.LJ.LJLJ...\n"
     ]
    }
   ],
   "source": [
    "L = data_test\n",
    "for line in L:\n",
    "    print(line)"
   ]
  },
  {
   "cell_type": "code",
   "execution_count": 48,
   "metadata": {},
   "outputs": [
    {
     "name": "stdout",
     "output_type": "stream",
     "text": [
      "70\n",
      "0 0 -- 0 10 0 2\n",
      "0 16 -- 10 0 0 5\n",
      "0 17 -- 10 0 0 4\n",
      "0 18 -- 10 0 0 4\n",
      "0 19 -- 10 0 0 2\n",
      "1 0 -- 0 13 0 2\n",
      "1 16 -- 13 0 0 5\n",
      "1 17 -- 13 0 0 4\n",
      "1 18 -- 13 0 0 4\n",
      "1 19 -- 13 0 0 2\n",
      "2 0 -- 0 14 0 2\n",
      "2 3 -- 2 12 2 2\n",
      "2 16 -- 14 0 0 5\n",
      "2 17 -- 14 0 0 4\n",
      "2 18 -- 14 0 0 4\n",
      "2 19 -- 14 0 0 2\n",
      "3 14 -- 14 2 3 4\n",
      "3 18 -- 16 0 0 4\n",
      "3 19 -- 16 0 0 2\n",
      "4 4 -- 2 10 4 4\n",
      "4 7 -- 4 8 2 4\n",
      "4 8 -- 4 8 2 4\n",
      "4 9 -- 4 8 2 2\n",
      "4 19 -- 12 0 0 2\n",
      "5 0 -- 0 13 2 0\n",
      "5 1 -- 0 13 3 0\n",
      "5 2 -- 0 13 4 0\n",
      "5 3 -- 0 13 4 0\n",
      "5 7 -- 2 11 2 4\n",
      "5 8 -- 2 11 2 4\n",
      "6 0 -- 0 14 2 0\n",
      "6 1 -- 0 14 3 0\n",
      "6 2 -- 0 14 4 0\n",
      "6 3 -- 0 14 4 0\n",
      "6 6 -- 2 12 4 3\n",
      "6 14 -- 9 5 5 2\n",
      "7 0 -- 0 14 2 0\n",
      "7 1 -- 0 14 3 0\n",
      "7 2 -- 0 14 4 0\n",
      "7 3 -- 0 14 4 0\n",
      "7 4 -- 0 14 6 2\n",
      "7 17 -- 12 2 4 0\n",
      "8 0 -- 0 10 2 0\n",
      "8 1 -- 0 10 3 0\n",
      "8 2 -- 0 10 4 0\n",
      "8 3 -- 0 10 4 0\n",
      "8 9 -- 4 6 4 0\n",
      "8 12 -- 6 4 6 0\n",
      "8 17 -- 10 0 4 0\n",
      "8 18 -- 10 0 4 0\n",
      "8 19 -- 10 0 2 0\n",
      "9 0 -- 0 8 2 0\n",
      "9 1 -- 0 8 3 0\n",
      "9 2 -- 0 8 4 0\n",
      "9 3 -- 0 8 4 0\n",
      "9 9 -- 2 6 4 0\n",
      "9 12 -- 4 4 6 0\n",
      "9 17 -- 8 0 4 0\n",
      "9 18 -- 8 0 4 0\n",
      "9 19 -- 8 0 2 0\n",
      "0\n"
     ]
    }
   ],
   "source": [
    "L = data_test\n",
    "\n",
    "nodes = set()\n",
    "for i, line in enumerate(L):\n",
    "    for j, c in enumerate(line):\n",
    "        if c != '.':\n",
    "            nodes.add((i, j))\n",
    "            if c== \"S\":\n",
    "                start = (i, j)\n",
    "\n",
    "i, j = start\n",
    "loop = [start]\n",
    "\n",
    "# find first next node to start\n",
    "neighbours = [(i+1, j), (i-1, j), (i, j+1), (i, j-1)]\n",
    "for nei in neighbours:\n",
    "    direction = nei[0] - i, nei[1] - j\n",
    "    if L[nei[0]][nei[1]] == '-' and direction[0]==0:\n",
    "        next_node = nei\n",
    "        break\n",
    "    elif L[nei[0]][nei[1]] == '|' and direction[1]==0:\n",
    "        next_node = nei\n",
    "        break\n",
    "    elif L[nei[0]][nei[1]] == 'J' and direction in [(1, 0), (0, 1)]:\n",
    "        next_node = nei\n",
    "        break\n",
    "    elif L[nei[0]][nei[1]] == 'L' and direction in [(1, 0), (0, -1)]:\n",
    "        next_node = nei\n",
    "        break\n",
    "    elif L[nei[0]][nei[1]] == '7' and direction in [(-1, 0), (0, 1)]:\n",
    "        next_node = nei\n",
    "        break\n",
    "    elif L[nei[0]][nei[1]] == 'F' and direction in [(-1, 0), (0, -1)]:\n",
    "        next_node = nei\n",
    "        break\n",
    "\n",
    "while next_node not in loop:\n",
    "    loop.append(next_node)\n",
    "    i, j = next_node\n",
    "    if L[i][j] == '|':\n",
    "        next_node = (i+direction[0], j)\n",
    "    elif L[i][j] == '-':\n",
    "        next_node = (i, j+direction[1])\n",
    "    elif L[i][j] == 'J': \n",
    "        # direction is (1, 0) for coming from up or (0, 1) for coming from left\n",
    "        # next direction is (0, -1) or (-1, 0) respectively\n",
    "        direction = -direction[1], -direction[0]\n",
    "        next_node = (i+direction[0], j+direction[1])\n",
    "    elif L[i][j] == 'L':\n",
    "        # direction is (1, 0) for coming from up or (0, -1) for coming from right\n",
    "        # next direction is (0, 1) or (-1, 0) respectively\n",
    "        direction = direction[1], direction[0]\n",
    "        next_node = (i+direction[0], j+direction[1])\n",
    "    elif L[i][j] == '7':\n",
    "        # direction is (-1, 0) for coming from down or (0, 1) for coming from left\n",
    "        # next direction is (0, -1) or (1, 0) respectively\n",
    "        direction = direction[1], direction[0]\n",
    "        next_node = (i+direction[0], j+direction[1])\n",
    "    elif L[i][j] == 'F':\n",
    "        # direction is (-1, 0) for coming from down or (0, -1) for coming from right\n",
    "        # next direction is (0, 1) or (1, 0) respectively\n",
    "        direction = -direction[1], -direction[0]\n",
    "        next_node = (i+direction[0], j+direction[1])\n",
    "    \n",
    "print(int(len(loop)/2))\n",
    "\n",
    "# Part 2\n",
    "S = 0\n",
    "for i, line in enumerate(L):\n",
    "    for j, c in enumerate(line):\n",
    "        if c == '.':\n",
    "            n1 = sum([(i,jj) in loop for jj in range(j) if L[i][jj] != '-'])\n",
    "            n2 = sum([(i,jj) in loop for jj in range(j+1, len(line)) if L[i][jj] != '-'])\n",
    "            n3 = sum([(ii,j) in loop for ii in range(i) if L[ii][j] != '|'])\n",
    "            n4 = sum([(ii,j) in loop for ii in range(i+1, len(L)) if L[ii][j] != '|'])\n",
    "            if n1+n2+n3+n4>0:\n",
    "                print(i, j, \"--\", n1, n2, n3, n4)\n",
    "            if n1%2 == 1 and n2%2 == 1 and n3%2 == 1 and n4%2 == 1:\n",
    "                print(i, j, \"--\", n1, n2, n3, n4)\n",
    "                S += 1\n",
    "print(S)"
   ]
  },
  {
   "cell_type": "code",
   "execution_count": 26,
   "metadata": {},
   "outputs": [
    {
     "data": {
      "text/plain": [
       "1"
      ]
     },
     "execution_count": 26,
     "metadata": {},
     "output_type": "execute_result"
    }
   ],
   "source": []
  },
  {
   "cell_type": "code",
   "execution_count": null,
   "metadata": {},
   "outputs": [],
   "source": []
  }
 ],
 "metadata": {
  "kernelspec": {
   "display_name": "py312",
   "language": "python",
   "name": "python3"
  },
  "language_info": {
   "codemirror_mode": {
    "name": "ipython",
    "version": 3
   },
   "file_extension": ".py",
   "mimetype": "text/x-python",
   "name": "python",
   "nbconvert_exporter": "python",
   "pygments_lexer": "ipython3",
   "version": "3.12.0"
  }
 },
 "nbformat": 4,
 "nbformat_minor": 2
}
