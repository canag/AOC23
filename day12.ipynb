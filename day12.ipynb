{
 "cells": [
  {
   "cell_type": "code",
   "execution_count": 75,
   "metadata": {},
   "outputs": [
    {
     "data": {
      "text/plain": [
       "(1000, 6)"
      ]
     },
     "execution_count": 75,
     "metadata": {},
     "output_type": "execute_result"
    }
   ],
   "source": [
    "from tools import get_input\n",
    "import numpy as np\n",
    "import functools\n",
    "\n",
    "data, data_test = get_input(12, test_nbr=1)\n",
    "len(data), len(data_test)"
   ]
  },
  {
   "cell_type": "code",
   "execution_count": 53,
   "metadata": {},
   "outputs": [
    {
     "data": {
      "text/plain": [
       "7622"
      ]
     },
     "execution_count": 53,
     "metadata": {},
     "output_type": "execute_result"
    }
   ],
   "source": [
    "L = data\n",
    "\n",
    "def count_sharps(s):\n",
    "    return [c for ss in s.split(\".\") if (c:=ss.count(\"#\"))>0]\n",
    "\n",
    "S = 0\n",
    "for line in L:\n",
    "    #print(line)\n",
    "    s = line.split()[0]\n",
    "    z = [int(c) for c in line.split()[1].split(\",\")]\n",
    "    options = [bin(i)[2:].zfill(s.count(\"?\")).replace(\"0\", \".\").replace(\"1\", \"#\") for i in range(2**s.count(\"?\"))]\n",
    "    n = sum(z) - s.count(\"#\")\n",
    "    options = [o for o in options if o.count(\"#\")==n]\n",
    "    for o in options:\n",
    "        t = s\n",
    "        for c in o:\n",
    "            t = t.replace(\"?\", c, 1)\n",
    "        S += count_sharps(t)==z\n",
    "S\n"
   ]
  },
  {
   "cell_type": "code",
   "execution_count": 86,
   "metadata": {},
   "outputs": [
    {
     "data": {
      "text/plain": [
       "4964259839627"
      ]
     },
     "execution_count": 86,
     "metadata": {},
     "output_type": "execute_result"
    }
   ],
   "source": [
    "L = data\n",
    "\n",
    "@functools.cache\n",
    "def mycount(x, z):\n",
    "    # x is a list of int8 with 0 for \".\", 1 for \"?\", 2 for \"#\"\n",
    "    n = sum(z)\n",
    "    nmin = sum(xx==2 for xx in x)\n",
    "    nmax = sum(xx>0 for xx in x)\n",
    "    if n < nmin or n > nmax:\n",
    "        return 0\n",
    "    if n==0:\n",
    "        return 1\n",
    "    if x[0]==0:\n",
    "        return mycount(x[1:], z)\n",
    "    if x[0]==1:\n",
    "        return mycount(x[1:], z) + mycount((2,)+x[1:], z)\n",
    "    if x[0]==2:\n",
    "        t = z[0]\n",
    "        if all(xx>0 for xx in x[:t]):\n",
    "            if len(x)==t:\n",
    "                return 1\n",
    "            if x[t]<2:\n",
    "                return mycount(x[t+1:], z[1:])\n",
    "        return 0\n",
    "\n",
    "S = 0\n",
    "for line in L:\n",
    "    #print(line)\n",
    "    s = line.split()[0]\n",
    "    s = \"?\".join(5*[s])\n",
    "    x = tuple(0 if c==\".\" else 1 if c==\"?\" else 2 for c in s)\n",
    "    z = tuple(int(c) for c in line.split()[1].split(\",\"))\n",
    "    z = 5*z\n",
    "    S += mycount(x, z)\n",
    "S\n",
    "    "
   ]
  },
  {
   "cell_type": "code",
   "execution_count": null,
   "metadata": {},
   "outputs": [],
   "source": []
  }
 ],
 "metadata": {
  "kernelspec": {
   "display_name": "py311",
   "language": "python",
   "name": "python3"
  },
  "language_info": {
   "codemirror_mode": {
    "name": "ipython",
    "version": 3
   },
   "file_extension": ".py",
   "mimetype": "text/x-python",
   "name": "python",
   "nbconvert_exporter": "python",
   "pygments_lexer": "ipython3",
   "version": "3.11.5"
  }
 },
 "nbformat": 4,
 "nbformat_minor": 2
}
