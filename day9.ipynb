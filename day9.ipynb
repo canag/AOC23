{
 "cells": [
  {
   "cell_type": "code",
   "execution_count": 1,
   "metadata": {},
   "outputs": [
    {
     "data": {
      "text/plain": [
       "(200, 3)"
      ]
     },
     "execution_count": 1,
     "metadata": {},
     "output_type": "execute_result"
    }
   ],
   "source": [
    "from tools import get_input\n",
    "import numpy as np\n",
    "\n",
    "data, data_test = get_input(9)\n",
    "len(data), len(data_test)"
   ]
  },
  {
   "cell_type": "code",
   "execution_count": 19,
   "metadata": {},
   "outputs": [
    {
     "name": "stdout",
     "output_type": "stream",
     "text": [
      "1684566095\n",
      "1136\n"
     ]
    }
   ],
   "source": [
    "L = data\n",
    "\n",
    "def get_next(v):\n",
    "    if (v==0).all():\n",
    "        return 0\n",
    "    d = v[1:]-v[:-1]\n",
    "    dnew = get_next(d)\n",
    "    return v[-1] + dnew\n",
    "\n",
    "def get_previous(v):\n",
    "    if (v==0).all():\n",
    "        return 0\n",
    "    d = v[1:]-v[:-1]\n",
    "    dnew = get_previous(d)\n",
    "    return v[0] - dnew\n",
    "\n",
    "z1 = 0\n",
    "for line in L:\n",
    "    v = np.array([int(s) for s in line.split()])\n",
    "    z1 += get_next(v)\n",
    "print(z1)\n",
    "\n",
    "z2 = 0\n",
    "for line in L:\n",
    "    v = np.array([int(s) for s in line.split()])\n",
    "    z2 += get_previous(v)\n",
    "print(z2)"
   ]
  }
 ],
 "metadata": {
  "kernelspec": {
   "display_name": "py311",
   "language": "python",
   "name": "python3"
  },
  "language_info": {
   "codemirror_mode": {
    "name": "ipython",
    "version": 3
   },
   "file_extension": ".py",
   "mimetype": "text/x-python",
   "name": "python",
   "nbconvert_exporter": "python",
   "pygments_lexer": "ipython3",
   "version": "3.11.5"
  }
 },
 "nbformat": 4,
 "nbformat_minor": 2
}
