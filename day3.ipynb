{
 "cells": [
  {
   "cell_type": "code",
   "execution_count": 2,
   "metadata": {},
   "outputs": [
    {
     "data": {
      "text/plain": [
       "(140, 10)"
      ]
     },
     "execution_count": 2,
     "metadata": {},
     "output_type": "execute_result"
    }
   ],
   "source": [
    "from tools import read, get_input\n",
    "\n",
    "data, data_test = get_input(3)\n",
    "len(data), len(data_test)"
   ]
  },
  {
   "cell_type": "code",
   "execution_count": 3,
   "metadata": {},
   "outputs": [
    {
     "name": "stdout",
     "output_type": "stream",
     "text": [
      "551094 80179647\n"
     ]
    }
   ],
   "source": [
    "L = data\n",
    "s1 = 0\n",
    "s2 = 0\n",
    "M = [list(x) for x in L]\n",
    "Nrows = len(M)\n",
    "Ncols = len(M[0])\n",
    "chars = set([e for f in M for e in f if not e.isnumeric()]) - set([\".\"])\n",
    "for i in range(Nrows):\n",
    "    for j in range(Ncols):\n",
    "        neighbors = []\n",
    "        if M[i][j] in chars:\n",
    "            # going left\n",
    "            k = j-1\n",
    "            s = \"\"\n",
    "            while k>=0 and M[i][k].isnumeric():\n",
    "                s = M[i][k] + s\n",
    "                k -= 1\n",
    "            if s!=\"\":\n",
    "                neighbors.append(int(s))\n",
    "            \n",
    "            # going right\n",
    "            k = j+1\n",
    "            s = \"\"\n",
    "            while k<Ncols and M[i][k].isnumeric():\n",
    "                s += M[i][k]\n",
    "                k += 1\n",
    "            if s!=\"\":\n",
    "                neighbors.append(int(s))\n",
    "\n",
    "            # going up one row\n",
    "            if i>0:\n",
    "                went_left = False\n",
    "                went_right = False\n",
    "                k = j\n",
    "                s = \"\"\n",
    "                while k>=0 and M[i-1][k].isnumeric():\n",
    "                    s = M[i-1][k] + s\n",
    "                    k -= 1\n",
    "                    went_left = True\n",
    "                k = j+1\n",
    "                while k<Ncols and M[i-1][k].isnumeric():\n",
    "                    s += M[i-1][k]\n",
    "                    k += 1\n",
    "                    went_right = True\n",
    "                if s!=\"\":\n",
    "                    neighbors.append(int(s))\n",
    "                if not went_left:\n",
    "                    k = j-1\n",
    "                    s = \"\"\n",
    "                    while k>=0 and M[i-1][k].isnumeric():\n",
    "                        s = M[i-1][k] + s\n",
    "                        k -= 1\n",
    "                    if s!=\"\":\n",
    "                        neighbors.append(int(s))\n",
    "                if not went_right:\n",
    "                    k = j+1\n",
    "                    s = \"\"\n",
    "                    while k<Ncols and M[i-1][k].isnumeric():\n",
    "                        s += M[i-1][k]\n",
    "                        k += 1\n",
    "                    if s!=\"\":\n",
    "                        neighbors.append(int(s))\n",
    "            \n",
    "            # going down one row\n",
    "            if i<Nrows-1:\n",
    "                went_left = False\n",
    "                went_right = False\n",
    "                k = j\n",
    "                s = \"\"\n",
    "                while k>=0 and M[i+1][k].isnumeric():\n",
    "                    s = M[i+1][k] + s\n",
    "                    k -= 1\n",
    "                    went_left = True\n",
    "                k = j+1\n",
    "                while k<Ncols and M[i+1][k].isnumeric():\n",
    "                    s += M[i+1][k]\n",
    "                    k += 1\n",
    "                    went_right = True\n",
    "                if s!=\"\":\n",
    "                    neighbors.append(int(s))\n",
    "                if not went_left:\n",
    "                    k = j-1\n",
    "                    s = \"\"\n",
    "                    while k>=0 and M[i+1][k].isnumeric():\n",
    "                        s = M[i+1][k] + s\n",
    "                        k -= 1\n",
    "                    if s!=\"\":\n",
    "                        neighbors.append(int(s))\n",
    "                if not went_right:\n",
    "                    k = j+1\n",
    "                    s = \"\"\n",
    "                    while k<Ncols and M[i+1][k].isnumeric():\n",
    "                        s += M[i+1][k]\n",
    "                        k += 1\n",
    "                    if s!=\"\":\n",
    "                        neighbors.append(int(s))\n",
    "        if len(neighbors)>0:\n",
    "            s1 += sum(neighbors)\n",
    "        if len(neighbors)==2:\n",
    "            s2 += neighbors[0] * neighbors[1]\n",
    "\n",
    "print(s1, s2)"
   ]
  },
  {
   "cell_type": "code",
   "execution_count": null,
   "metadata": {},
   "outputs": [],
   "source": []
  }
 ],
 "metadata": {
  "kernelspec": {
   "display_name": "py312",
   "language": "python",
   "name": "python3"
  },
  "language_info": {
   "codemirror_mode": {
    "name": "ipython",
    "version": 3
   },
   "file_extension": ".py",
   "mimetype": "text/x-python",
   "name": "python",
   "nbconvert_exporter": "python",
   "pygments_lexer": "ipython3",
   "version": "3.11.5"
  }
 },
 "nbformat": 4,
 "nbformat_minor": 2
}
