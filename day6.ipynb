{
 "cells": [
  {
   "cell_type": "code",
   "execution_count": 11,
   "metadata": {},
   "outputs": [
    {
     "data": {
      "text/plain": [
       "([60, 80, 86, 76], [601, 1163, 1559, 1300])"
      ]
     },
     "execution_count": 11,
     "metadata": {},
     "output_type": "execute_result"
    }
   ],
   "source": [
    "from tools import read, get_input\n",
    "\n",
    "L = get_input(6, False)\n",
    "times = [int(s) for s in L[0].split(\":\")[1].strip().split()]\n",
    "records = [int(s) for s in L[1].split(\":\")[1].strip().split()]\n",
    "times, records"
   ]
  },
  {
   "cell_type": "code",
   "execution_count": 12,
   "metadata": {},
   "outputs": [
    {
     "name": "stdout",
     "output_type": "stream",
     "text": [
      "60 601\n",
      "80 1163\n",
      "86 1559\n",
      "76 1300\n"
     ]
    },
    {
     "data": {
      "text/plain": [
       "1155175"
      ]
     },
     "execution_count": 12,
     "metadata": {},
     "output_type": "execute_result"
    }
   ],
   "source": [
    "import numpy as np\n",
    "res = []\n",
    "for t,r in zip(times, records):\n",
    "    print(t, r)\n",
    "    x = np.arange(t)\n",
    "    z = x*(t-x)\n",
    "    res.append(np.sum((z>r)))\n",
    "np.prod(res)"
   ]
  },
  {
   "cell_type": "code",
   "execution_count": 17,
   "metadata": {},
   "outputs": [
    {
     "data": {
      "text/plain": [
       "(60808676, 601116315591300)"
      ]
     },
     "execution_count": 17,
     "metadata": {},
     "output_type": "execute_result"
    }
   ],
   "source": [
    "L = get_input(6, False)\n",
    "t = int(\"\".join(L[0].split(\":\")[1].strip().split()))\n",
    "r = int(\"\".join(L[1].split(\":\")[1].strip().split()))\n",
    "t, r"
   ]
  },
  {
   "cell_type": "code",
   "execution_count": 21,
   "metadata": {},
   "outputs": [
    {
     "name": "stdout",
     "output_type": "stream",
     "text": [
      "60808676 601116315591300\n"
     ]
    },
    {
     "data": {
      "text/plain": [
       "35961505"
      ]
     },
     "execution_count": 21,
     "metadata": {},
     "output_type": "execute_result"
    }
   ],
   "source": [
    "res = []\n",
    "print(t, r)\n",
    "x = np.arange(t+1).astype(float)\n",
    "z = x*(t-x)\n",
    "res.append(np.sum((z>r)))\n",
    "np.prod(res)"
   ]
  },
  {
   "cell_type": "code",
   "execution_count": null,
   "metadata": {},
   "outputs": [],
   "source": []
  }
 ],
 "metadata": {
  "kernelspec": {
   "display_name": "py311",
   "language": "python",
   "name": "python3"
  },
  "language_info": {
   "codemirror_mode": {
    "name": "ipython",
    "version": 3
   },
   "file_extension": ".py",
   "mimetype": "text/x-python",
   "name": "python",
   "nbconvert_exporter": "python",
   "pygments_lexer": "ipython3",
   "version": "3.11.5"
  }
 },
 "nbformat": 4,
 "nbformat_minor": 2
}
