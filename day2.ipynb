{
 "cells": [
  {
   "cell_type": "code",
   "execution_count": 1,
   "metadata": {},
   "outputs": [
    {
     "data": {
      "text/plain": [
       "100"
      ]
     },
     "execution_count": 1,
     "metadata": {},
     "output_type": "execute_result"
    }
   ],
   "source": [
    "from tools import read, get_input\n",
    "\n",
    "L = get_input(2)\n",
    "len(L)"
   ]
  },
  {
   "cell_type": "markdown",
   "metadata": {},
   "source": [
    "## part 1"
   ]
  },
  {
   "cell_type": "code",
   "execution_count": 2,
   "metadata": {},
   "outputs": [
    {
     "data": {
      "text/plain": [
       "2505"
      ]
     },
     "execution_count": 2,
     "metadata": {},
     "output_type": "execute_result"
    }
   ],
   "source": [
    "poss = {\"red\": 12, \"green\": 13, \"blue\": 14}\n",
    "\n",
    "def vleq(d1, d2):\n",
    "    for k in d1:\n",
    "        if k in d2:\n",
    "            if d1[k] > d2[k]:\n",
    "                return False\n",
    "    return True\n",
    "\n",
    "sum = 0\n",
    "for line in L:\n",
    "    tmp = line.split(\":\")\n",
    "    i = int(tmp[0][5:])\n",
    "    line = tmp[1]\n",
    "    sets = line.split(\";\")\n",
    "    cond = True\n",
    "    for s in sets:\n",
    "        ssets = s.split(\",\")\n",
    "        d = {}\n",
    "        for ss in ssets:\n",
    "            ttmp = ss.split(\" \")\n",
    "            d[ttmp[2]] = int(ttmp[1])\n",
    "        if not vleq(d, poss):\n",
    "            cond = False\n",
    "            break\n",
    "    if cond:\n",
    "        sum += i\n",
    "sum\n"
   ]
  },
  {
   "cell_type": "markdown",
   "metadata": {},
   "source": [
    "## part 2"
   ]
  },
  {
   "cell_type": "code",
   "execution_count": 3,
   "metadata": {},
   "outputs": [
    {
     "data": {
      "text/plain": [
       "70265"
      ]
     },
     "execution_count": 3,
     "metadata": {},
     "output_type": "execute_result"
    }
   ],
   "source": [
    "sum = 0\n",
    "for line in L:\n",
    "    tmp = line.split(\":\")\n",
    "    i = int(tmp[0][5:])\n",
    "    line = tmp[1]\n",
    "    sets = line.split(\";\")\n",
    "    m = {\"red\": 0, \"green\": 0, \"blue\": 0}\n",
    "    for s in sets:\n",
    "        ssets = s.split(\",\")\n",
    "        for ss in ssets:\n",
    "            ttmp = ss.split(\" \")\n",
    "            k, v = ttmp[2], int(ttmp[1])\n",
    "            if v > m[k]:\n",
    "                m[k] = v\n",
    "    p = m[\"red\"] * m[\"green\"] * m[\"blue\"] \n",
    "    sum += p\n",
    "sum"
   ]
  },
  {
   "cell_type": "code",
   "execution_count": null,
   "metadata": {},
   "outputs": [],
   "source": []
  }
 ],
 "metadata": {
  "kernelspec": {
   "display_name": "py312",
   "language": "python",
   "name": "python3"
  },
  "language_info": {
   "codemirror_mode": {
    "name": "ipython",
    "version": 3
   },
   "file_extension": ".py",
   "mimetype": "text/x-python",
   "name": "python",
   "nbconvert_exporter": "python",
   "pygments_lexer": "ipython3",
   "version": "3.11.5"
  }
 },
 "nbformat": 4,
 "nbformat_minor": 2
}
