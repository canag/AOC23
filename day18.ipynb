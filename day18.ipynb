{
 "cells": [
  {
   "cell_type": "code",
   "execution_count": 1,
   "metadata": {},
   "outputs": [
    {
     "data": {
      "text/plain": [
       "(676, 14)"
      ]
     },
     "execution_count": 1,
     "metadata": {},
     "output_type": "execute_result"
    }
   ],
   "source": [
    "from tools import get_input\n",
    "import numpy as np\n",
    "\n",
    "data, data_test = get_input(18)\n",
    "len(data), len(data_test)"
   ]
  },
  {
   "cell_type": "markdown",
   "metadata": {},
   "source": [
    "## Part 1"
   ]
  },
  {
   "cell_type": "markdown",
   "metadata": {},
   "source": [
    "### 1.1 Basic greedy approach, 13s on full dataset"
   ]
  },
  {
   "cell_type": "code",
   "execution_count": 2,
   "metadata": {},
   "outputs": [
    {
     "name": "stdout",
     "output_type": "stream",
     "text": [
      "3590 42804\n",
      "46394\n"
     ]
    }
   ],
   "source": [
    "def get_border_corners(L, intdir=False):\n",
    "    pos = (0, 0)\n",
    "    points = {pos}\n",
    "    corners = {}\n",
    "    last_dir = L[-1].split()[0]\n",
    "    if not intdir:\n",
    "        last_dir = last_dir.replace('R', '0').replace('L', '2').replace('U', '3').replace('D', '1')\n",
    "\n",
    "    for line in L:\n",
    "        dir, n, _ = line.split()\n",
    "        if not intdir:\n",
    "            dir = dir.replace('R', '0').replace('L', '2').replace('U', '3').replace('D', '1')\n",
    "        corners[pos] = (int(last_dir), int(dir))\n",
    "        n = int(n)\n",
    "        if dir=='0':       \n",
    "            for i in range(1, n+1):\n",
    "                pos = (pos[0], pos[1]+1)\n",
    "                points.add(pos)\n",
    "        elif dir=='2':\n",
    "            for i in range(1, n+1):\n",
    "                pos = (pos[0], pos[1]-1)\n",
    "                points.add(pos)\n",
    "        elif dir=='3':\n",
    "            for i in range(1, n+1):\n",
    "                pos = (pos[0]-1, pos[1])\n",
    "                points.add(pos)\n",
    "        elif dir=='1':\n",
    "            for i in range(1, n+1):\n",
    "                pos = (pos[0]+1, pos[1])\n",
    "                points.add(pos)\n",
    "        last_dir = dir\n",
    "    return points, corners\n",
    "\n",
    "def get_internal_points_greedy(points):\n",
    "    '''\n",
    "    pseudo-Dijkstra greedy algo to find internal points one by one\n",
    "    '''\n",
    "\n",
    "    # start from the middle, if we're lucky it's inside \n",
    "    i0, j0 = int(sum([p[0] for p in points]) / len(points)), int(sum([p[1] for p in points]) / len(points))\n",
    "    pints = {(i0, j0)}\n",
    "    # list of remaining starting internal points to consider\n",
    "    q = [(i0, j0)]\n",
    "    while q:\n",
    "        i, j = q.pop()\n",
    "        pints.add((i, j))\n",
    "        next_pt = [(i+1, j), (i-1, j), (i, j+1), (i, j-1)]\n",
    "        for p in next_pt:\n",
    "            if (p not in pints) and (p not in points) and (p not in q):\n",
    "                q.append(p)\n",
    "    return pints\n",
    "\n",
    "L = data\n",
    "points, corners = get_border_corners(L)\n",
    "internal_points = get_internal_points_greedy(points)\n",
    "print(len(points), len(internal_points))\n",
    "print(len(points)+len(internal_points))"
   ]
  },
  {
   "cell_type": "markdown",
   "metadata": {},
   "source": [
    "### 1.2 Row-by-row approach to find internal points (0.1s on full dataset)"
   ]
  },
  {
   "cell_type": "code",
   "execution_count": 3,
   "metadata": {},
   "outputs": [
    {
     "name": "stdout",
     "output_type": "stream",
     "text": [
      "3590 46394\n",
      "49984\n"
     ]
    }
   ],
   "source": [
    "def count_internal_points(points, corners, verbose=False):\n",
    "    S = 0\n",
    "    set_i = set([p[0] for p in points])\n",
    "    for k, i in enumerate(set_i):\n",
    "        if k%10_000==0 and verbose:\n",
    "            print(k, '/', len(set_i))\n",
    "        # indices of columns where there are points\n",
    "        vj = np.array(sorted([p[1] for p in points if p[0]==i]))\n",
    "        # true if a new segment starts at this point\n",
    "        starts = np.zeros(len(vj))\n",
    "        starts[0] = True\n",
    "        starts[1:] = np.diff(vj)>1\n",
    "        # true if a segment ends at this point\n",
    "        ends = np.zeros(len(vj))\n",
    "        ends[-1] = True\n",
    "        ends[:-1] = np.diff(vj)>1\n",
    "        within = False\n",
    "        ind_start = None\n",
    "        # find the indices of the starts and ends\n",
    "        k_starts = np.where(starts)[0]\n",
    "        k_ends = np.where(ends)[0]\n",
    "        if sum(starts)!=sum(ends):\n",
    "            print('errorf for i=', i, 'vj=', vj, 'starts=', starts, 'ends=', ends)\n",
    "        for k1, k2 in zip(k_starts, k_ends):\n",
    "            if k1==k2:\n",
    "                if within:\n",
    "                    S += vj[k1] - ind_start + 1\n",
    "                else:\n",
    "                    ind_start = vj[k1]\n",
    "                within = not within\n",
    "            elif k1<k2:\n",
    "                c1 = corners[(i, vj[k1])]\n",
    "                c2 = corners[(i, vj[k2])]\n",
    "                turn1 = (c1[1]-c1[0]) % 4\n",
    "                turn2 = (c2[1]-c2[0]) % 4\n",
    "                if turn1==turn2:\n",
    "                    if not within:\n",
    "                        S += vj[k2] - vj[k1] + 1\n",
    "                else:\n",
    "                    if within:\n",
    "                        S += vj[k2] - ind_start + 1\n",
    "                    else:\n",
    "                        ind_start = vj[k1]\n",
    "                    within = not within\n",
    "            else:\n",
    "                print('error for i=', i, 'vj=', vj, 'starts=', starts, 'ends=', ends)\n",
    "    return S\n",
    "\n",
    "L = data\n",
    "points, corners = get_border_corners(L)\n",
    "n_internal_points = count_internal_points(points, corners)\n",
    "print(len(points), n_internal_points)\n",
    "print(len(points)+n_internal_points)"
   ]
  },
  {
   "cell_type": "code",
   "execution_count": 4,
   "metadata": {},
   "outputs": [
    {
     "data": {
      "image/png": "[encoded data removed]",
      "text/plain": [
       "<Figure size 640x480 with 1 Axes>"
      ]
     },
     "metadata": {},
     "output_type": "display_data"
    }
   ],
   "source": [
    "import matplotlib.pyplot as plt\n",
    "plt.scatter([p[1] for p in points], [p[0] for p in points], s=30)\n",
    "plt.scatter([p[1] for p in internal_points], [p[0] for p in internal_points], s=2, color='red')\n",
    "\n",
    "# same scale for x and y\n",
    "plt.gca().set_aspect('equal', adjustable='box')\n",
    "# y axis inverted\n",
    "plt.gca().invert_yaxis()"
   ]
  },
  {
   "cell_type": "markdown",
   "metadata": {},
   "source": [
    "## Part 2"
   ]
  },
  {
   "cell_type": "code",
   "execution_count": 5,
   "metadata": {},
   "outputs": [],
   "source": [
    "def transform(L):\n",
    "    newL = []\n",
    "    for line in L:\n",
    "        _, _, c = line.split()\n",
    "        d = str(int(c[2:-2], base=16))\n",
    "        intdir = c[-2]\n",
    "        newL.append(\" \".join([intdir, d, c]))\n",
    "    return newL"
   ]
  },
  {
   "cell_type": "code",
   "execution_count": 6,
   "metadata": {},
   "outputs": [
    {
     "data": {
      "text/plain": [
       "(6405262, 14)"
      ]
     },
     "execution_count": 6,
     "metadata": {},
     "output_type": "execute_result"
    }
   ],
   "source": [
    "L = transform(data_test)\n",
    "\n",
    "points, corners = get_border_corners(L, intdir=True)\n",
    "len(points), len(corners)"
   ]
  },
  {
   "cell_type": "code",
   "execution_count": null,
   "metadata": {},
   "outputs": [],
   "source": []
  },
  {
   "cell_type": "code",
   "execution_count": null,
   "metadata": {},
   "outputs": [],
   "source": []
  }
 ],
 "metadata": {
  "kernelspec": {
   "display_name": "py312",
   "language": "python",
   "name": "python3"
  },
  "language_info": {
   "codemirror_mode": {
    "name": "ipython",
    "version": 3
   },
   "file_extension": ".py",
   "mimetype": "text/x-python",
   "name": "python",
   "nbconvert_exporter": "python",
   "pygments_lexer": "ipython3",
   "version": "3.11.5"
  }
 },
 "nbformat": 4,
 "nbformat_minor": 2
}
