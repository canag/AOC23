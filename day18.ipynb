{
 "cells": [
  {
   "cell_type": "code",
   "execution_count": 1,
   "metadata": {},
   "outputs": [
    {
     "data": {
      "text/plain": [
       "(676, 14)"
      ]
     },
     "execution_count": 1,
     "metadata": {},
     "output_type": "execute_result"
    }
   ],
   "source": [
    "from tools import get_input\n",
    "import numpy as np\n",
    "\n",
    "data, data_test = get_input(18)\n",
    "len(data), len(data_test)"
   ]
  },
  {
   "cell_type": "markdown",
   "metadata": {},
   "source": [
    "## Part 1"
   ]
  },
  {
   "cell_type": "code",
   "execution_count": 2,
   "metadata": {},
   "outputs": [
    {
     "name": "stdout",
     "output_type": "stream",
     "text": [
      "3590\n",
      "42804\n",
      "46394\n"
     ]
    }
   ],
   "source": [
    "L = data\n",
    "\n",
    "pos = (0, 0)\n",
    "points = {pos}\n",
    "corners = {}\n",
    "last_dir = int(L[-1].split()[0].replace('R', '0').replace('L', '2').replace('U', '3').replace('D', '1'))\n",
    "\n",
    "for line in L:\n",
    "    dir, n, c = line.split()\n",
    "    dir = int(dir.replace('R', '0').replace('L', '2').replace('U', '3').replace('D', '1'))\n",
    "    corners[pos] = (last_dir, dir)\n",
    "    n = int(n)\n",
    "    if dir==0:       \n",
    "        for i in range(1, n+1):\n",
    "            pos = (pos[0], pos[1]+1)\n",
    "            points.add(pos)\n",
    "    elif dir==2:\n",
    "        for i in range(1, n+1):\n",
    "            pos = (pos[0], pos[1]-1)\n",
    "            points.add(pos)\n",
    "    elif dir==3:\n",
    "        for i in range(1, n+1):\n",
    "            pos = (pos[0]-1, pos[1])\n",
    "            points.add(pos)\n",
    "    elif dir==1:\n",
    "        for i in range(1, n+1):\n",
    "            pos = (pos[0]+1, pos[1])\n",
    "            points.add(pos)\n",
    "    last_dir = dir\n",
    "print(len(points))\n",
    "\n",
    "i0, j0 = int(sum([p[0] for p in points]) / len(points)), int(sum([p[1] for p in points]) / len(points))\n",
    "pints = {(i0, j0)}\n",
    "q = [(i0, j0)]\n",
    "while q:\n",
    "    i, j = q.pop()\n",
    "    pints.add((i, j))\n",
    "    next_pt = [(i+1, j), (i-1, j), (i, j+1), (i, j-1)]\n",
    "    for p in next_pt:\n",
    "        if (p not in pints) and (p not in points) and (p not in q):\n",
    "            q.append(p)\n",
    "print(len(pints))\n",
    "print(len(points)+len(pints))"
   ]
  },
  {
   "cell_type": "code",
   "execution_count": 3,
   "metadata": {},
   "outputs": [
    {
     "data": {
      "text/plain": [
       "46394"
      ]
     },
     "execution_count": 3,
     "metadata": {},
     "output_type": "execute_result"
    }
   ],
   "source": [
    "S = 0\n",
    "set_i = set([p[0] for p in points])\n",
    "for k, i in enumerate(set_i):\n",
    "    vj = np.array(sorted([p[1] for p in points if p[0]==i]))\n",
    "    # true if a new segment starts at this point\n",
    "    starts = np.zeros(len(vj))\n",
    "    starts[0] = True\n",
    "    starts[1:] = np.diff(vj)>1\n",
    "    # true if a segment ends at this point\n",
    "    ends = np.zeros(len(vj))\n",
    "    ends[-1] = True\n",
    "    ends[:-1] = np.diff(vj)>1\n",
    "    within = False\n",
    "    ind_start = None\n",
    "    # find the indices of the starts and ends\n",
    "    k_starts = np.where(starts)[0]\n",
    "    k_ends = np.where(ends)[0]\n",
    "    if sum(starts)!=sum(ends):\n",
    "        print('errorf for i=', i, 'vj=', vj, 'starts=', starts, 'ends=', ends)\n",
    "    for k1, k2 in zip(k_starts, k_ends):\n",
    "        if k1==k2:\n",
    "            if within:\n",
    "                S += vj[k1] - ind_start + 1\n",
    "            else:\n",
    "                ind_start = vj[k1]\n",
    "            within = not within\n",
    "        elif k1<k2:\n",
    "            c1 = corners[(i, vj[k1])]\n",
    "            c2 = corners[(i, vj[k2])]\n",
    "            turn1 = (c1[1]-c1[0]) % 4\n",
    "            turn2 = (c2[1]-c2[0]) % 4\n",
    "            if turn1==turn2:\n",
    "                if not within:\n",
    "                    S += vj[k2] - vj[k1] + 1\n",
    "            else:\n",
    "                if within:\n",
    "                    S += vj[k2] - ind_start + 1\n",
    "                else:\n",
    "                    ind_start = vj[k1]\n",
    "                within = not within\n",
    "        else:\n",
    "            print('error for i=', i, 'vj=', vj, 'starts=', starts, 'ends=', ends)\n",
    "S"
   ]
  },
  {
   "cell_type": "code",
   "execution_count": 32,
   "metadata": {},
   "outputs": [
    {
     "data": {
      "image/png": "[encoded data removed]",
      "text/plain": [
       "<Figure size 640x480 with 1 Axes>"
      ]
     },
     "metadata": {},
     "output_type": "display_data"
    }
   ],
   "source": [
    "import matplotlib.pyplot as plt\n",
    "plt.scatter([p[1] for p in points], [p[0] for p in points], s=30)\n",
    "plt.scatter([p[1] for p in pints], [p[0] for p in pints], s=10, color='red')\n",
    "\n",
    "# same scale for x and y\n",
    "plt.gca().set_aspect('equal', adjustable='box')\n",
    "# y axis inverted\n",
    "plt.gca().invert_yaxis()"
   ]
  },
  {
   "cell_type": "markdown",
   "metadata": {},
   "source": [
    "## Part 2"
   ]
  },
  {
   "cell_type": "code",
   "execution_count": 95,
   "metadata": {},
   "outputs": [
    {
     "name": "stdout",
     "output_type": "stream",
     "text": [
      "(#70c710) 461937 0\n",
      "(#0dc571) 56407 1\n",
      "(#5713f0) 356671 0\n",
      "(#d2c081) 863240 1\n",
      "(#59c680) 367720 0\n",
      "(#411b91) 266681 1\n",
      "(#8ceee2) 577262 2\n",
      "(#caa173) 829975 3\n",
      "(#1b58a2) 112010 2\n",
      "(#caa171) 829975 1\n",
      "(#7807d2) 491645 2\n",
      "(#a77fa3) 686074 3\n",
      "(#015232) 5411 2\n",
      "(#7a21e3) 500254 3\n"
     ]
    }
   ],
   "source": [
    "for line in data_test:\n",
    "    dir, n, c = line.split()\n",
    "    n = int(n)\n",
    "    d = int(c[2:-2], base=16)\n",
    "    dir = c[-2]\n",
    "    print(c, d, dir)"
   ]
  },
  {
   "cell_type": "code",
   "execution_count": 98,
   "metadata": {},
   "outputs": [
    {
     "name": "stdout",
     "output_type": "stream",
     "text": [
      "6405262\n"
     ]
    }
   ],
   "source": [
    "L = data_test\n",
    "\n",
    "pos = (0, 0)\n",
    "points = {pos}\n",
    "corners = {}\n",
    "last_dir = int(L[-1].split()[-1][-2])\n",
    "\n",
    "for line in data_test:\n",
    "    dir, n, c = line.split()\n",
    "    d = int(c[2:-2], base=16)\n",
    "    dir = int(c[-2])\n",
    "    corners[pos] = (last_dir, dir)\n",
    "    if dir==0:\n",
    "        for i in range(1, d+1):\n",
    "            pos = (pos[0], pos[1]+1)\n",
    "            points.add(pos)\n",
    "    elif dir==2:\n",
    "        for i in range(1, d+1):\n",
    "            pos = (pos[0], pos[1]-1)\n",
    "            points.add(pos)\n",
    "    elif dir==3:\n",
    "        for i in range(1, d+1):\n",
    "            pos = (pos[0]-1, pos[1])\n",
    "            points.add(pos)\n",
    "    elif dir==1:\n",
    "        for i in range(1, d+1):\n",
    "            pos = (pos[0]+1, pos[1])\n",
    "            points.add(pos)\n",
    "    last_dir = dir\n",
    "print(len(points))"
   ]
  },
  {
   "cell_type": "code",
   "execution_count": 99,
   "metadata": {},
   "outputs": [
    {
     "ename": "",
     "evalue": "",
     "output_type": "error",
     "traceback": [
      "\u001b[1;31mThe Kernel crashed while executing code in the the current cell or a previous cell. Please review the code in the cell(s) to identify a possible cause of the failure. Click <a href='https://aka.ms/vscodeJupyterKernelCrash'>here</a> for more info. View Jupyter <a href='command:jupyter.viewOutput'>log</a> for further details."
     ]
    }
   ],
   "source": [
    "S = 0\n",
    "set_i = set([p[0] for p in points])\n",
    "for k, i in enumerate(set_i):\n",
    "    vj = np.array(sorted([p[1] for p in points if p[0]==i]))\n",
    "    # true if a new segment starts at this point\n",
    "    starts = np.zeros(len(vj))\n",
    "    starts[0] = True\n",
    "    starts[1:] = np.diff(vj)>1\n",
    "    # true if a segment ends at this point\n",
    "    ends = np.zeros(len(vj))\n",
    "    ends[-1] = True\n",
    "    ends[:-1] = np.diff(vj)>1\n",
    "    within = False\n",
    "    ind_start = None\n",
    "    # find the indices of the starts and ends\n",
    "    k_starts = np.where(starts)[0]\n",
    "    k_ends = np.where(ends)[0]\n",
    "    if sum(starts)!=sum(ends):\n",
    "        print('errorf for i=', i, 'vj=', vj, 'starts=', starts, 'ends=', ends)\n",
    "    for k1, k2 in zip(k_starts, k_ends):\n",
    "        if k1==k2:\n",
    "            if within:\n",
    "                S += vj[k1] - ind_start + 1\n",
    "            else:\n",
    "                ind_start = vj[k1]\n",
    "            within = not within\n",
    "        elif k1<k2:\n",
    "            c1 = corners[(i, vj[k1])]\n",
    "            c2 = corners[(i, vj[k2])]\n",
    "            turn1 = (c1[1]-c1[0]) % 4\n",
    "            turn2 = (c2[1]-c2[0]) % 4\n",
    "            if turn1==turn2:\n",
    "                if not within:\n",
    "                    S += vj[k2] - vj[k1] + 1\n",
    "            else:\n",
    "                if within:\n",
    "                    S += vj[k2] - ind_start + 1\n",
    "                else:\n",
    "                    ind_start = vj[k1]\n",
    "                within = not within\n",
    "        else:\n",
    "            print('error for i=', i, 'vj=', vj, 'starts=', starts, 'ends=', ends)\n",
    "S"
   ]
  },
  {
   "cell_type": "code",
   "execution_count": null,
   "metadata": {},
   "outputs": [],
   "source": []
  },
  {
   "cell_type": "code",
   "execution_count": null,
   "metadata": {},
   "outputs": [],
   "source": []
  }
 ],
 "metadata": {
  "kernelspec": {
   "display_name": "py312",
   "language": "python",
   "name": "python3"
  },
  "language_info": {
   "codemirror_mode": {
    "name": "ipython",
    "version": 3
   },
   "file_extension": ".py",
   "mimetype": "text/x-python",
   "name": "python",
   "nbconvert_exporter": "python",
   "pygments_lexer": "ipython3",
   "version": "3.11.5"
  }
 },
 "nbformat": 4,
 "nbformat_minor": 2
}
