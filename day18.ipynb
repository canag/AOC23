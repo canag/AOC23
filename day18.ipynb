{
 "cells": [
  {
   "cell_type": "code",
   "execution_count": 18,
   "metadata": {},
   "outputs": [
    {
     "name": "stderr",
     "output_type": "stream",
     "text": [
      "  % Total    % Received % Xferd  Average Speed   Time    Time     Time  Current\n",
      "                                 Dload  Upload   Total   Spent    Left  Speed\n",
      "100  9501  100  9501    0     0  25656      0 --:--:-- --:--:-- --:--:-- 25609\n",
      "  % Total    % Received % Xferd  Average Speed   Time    Time     Time  Current\n",
      "                                 Dload  Upload   Total   Spent    Left  Speed\n",
      "100  7037    0  7037    0     0  19344      0 --:--:-- --:--:-- --:--:-- 19385\n"
     ]
    },
    {
     "data": {
      "text/plain": [
       "(676, 14)"
      ]
     },
     "execution_count": 18,
     "metadata": {},
     "output_type": "execute_result"
    }
   ],
   "source": [
    "from tools import get_input\n",
    "import numpy as np\n",
    "\n",
    "data, data_test = get_input(18)\n",
    "len(data), len(data_test)"
   ]
  },
  {
   "cell_type": "code",
   "execution_count": 35,
   "metadata": {},
   "outputs": [
    {
     "name": "stdout",
     "output_type": "stream",
     "text": [
      "3590\n",
      "0 30 30\n",
      "1 0 0\n",
      "2 8 8\n",
      "3 8 8\n",
      "4 10 10\n",
      "5 0 0\n",
      "6 13 13\n"
     ]
    },
    {
     "ename": "ValueError",
     "evalue": "operands could not be broadcast together with shapes (4,) (5,) ",
     "output_type": "error",
     "traceback": [
      "\u001b[0;31m---------------------------------------------------------------------------\u001b[0m",
      "\u001b[0;31mValueError\u001b[0m                                Traceback (most recent call last)",
      "\u001b[1;32m/Users/canaguier/Desktop/code/AOC2023/day18.ipynb Cell 2\u001b[0m line \u001b[0;36m3\n\u001b[1;32m     <a href='vscode-notebook-cell:/Users/canaguier/Desktop/code/AOC2023/day18.ipynb#W1sZmlsZQ%3D%3D?line=36'>37</a>\u001b[0m     starts \u001b[39m=\u001b[39m ys[d_prev\u001b[39m>\u001b[39m\u001b[39m1\u001b[39m]\n\u001b[1;32m     <a href='vscode-notebook-cell:/Users/canaguier/Desktop/code/AOC2023/day18.ipynb#W1sZmlsZQ%3D%3D?line=37'>38</a>\u001b[0m     \u001b[39m#print(i, sum(starts[1::2]-ends[::2]) + ends[::2].shape[0])\u001b[39;00m\n\u001b[0;32m---> <a href='vscode-notebook-cell:/Users/canaguier/Desktop/code/AOC2023/day18.ipynb#W1sZmlsZQ%3D%3D?line=38'>39</a>\u001b[0m     S \u001b[39m+\u001b[39m\u001b[39m=\u001b[39m \u001b[39msum\u001b[39m(starts[\u001b[39m1\u001b[39;49m::\u001b[39m2\u001b[39;49m]\u001b[39m-\u001b[39;49mends[::\u001b[39m2\u001b[39;49m]) \u001b[39m+\u001b[39m ends[::\u001b[39m2\u001b[39m]\u001b[39m.\u001b[39mshape[\u001b[39m0\u001b[39m]\n\u001b[1;32m     <a href='vscode-notebook-cell:/Users/canaguier/Desktop/code/AOC2023/day18.ipynb#W1sZmlsZQ%3D%3D?line=39'>40</a>\u001b[0m S\n",
      "\u001b[0;31mValueError\u001b[0m: operands could not be broadcast together with shapes (4,) (5,) "
     ]
    }
   ],
   "source": [
    "pos = (0, 0)\n",
    "points = [pos]\n",
    "\n",
    "for line in data:\n",
    "    dir, n, c = line.split()\n",
    "    n = int(n)\n",
    "    if dir=='R':\n",
    "        for i in range(1, n+1):\n",
    "            pos = (pos[0], pos[1]+1)\n",
    "            points.append(pos)\n",
    "    elif dir=='L':\n",
    "        for i in range(1, n+1):\n",
    "            pos = (pos[0], pos[1]-1)\n",
    "            points.append(pos)\n",
    "    elif dir=='U':\n",
    "        for i in range(1, n+1):\n",
    "            pos = (pos[0]-1, pos[1])\n",
    "            points.append(pos)\n",
    "    elif dir=='D':\n",
    "        for i in range(1, n+1):\n",
    "            pos = (pos[0]+1, pos[1])\n",
    "            points.append(pos)\n",
    "print(len(set(points)))\n",
    "\n",
    "S = 0\n",
    "for i in set([p[0] for p in points]):\n",
    "    ys = np.array(sorted([p[1] for p in points if p[0]==i]))\n",
    "    d_next = np.zeros(ys.shape[0])\n",
    "    d_prev = np.zeros(ys.shape[0])\n",
    "    d_next[:-1] = ys[1:]-ys[:-1] # for elements 0 to N-2\n",
    "    d_next[-1] = 2 # for element N-1\n",
    "    d_prev[1:] = ys[1:]-ys[:-1] # for elements 1 to N-1\n",
    "    d_prev[0] = 2 # for element 0\n",
    "    print(i, sum(d_next==1), sum(d_prev==1))\n",
    "    S += sum(d_next==1)\n",
    "    ends = ys[d_next>1]\n",
    "    starts = ys[d_prev>1]\n",
    "    #print(i, sum(starts[1::2]-ends[::2]) + ends[::2].shape[0])\n",
    "    S += sum(starts[1::2]-ends[::2]) + ends[::2].shape[0]\n",
    "S\n"
   ]
  },
  {
   "cell_type": "code",
   "execution_count": 38,
   "metadata": {},
   "outputs": [
    {
     "data": {
      "text/plain": [
       "(-20.0, 20.0)"
      ]
     },
     "execution_count": 38,
     "metadata": {},
     "output_type": "execute_result"
    },
    {
     "data": {
      "image/png": "[encoded data removed]",
      "text/plain": [
       "<Figure size 640x480 with 1 Axes>"
      ]
     },
     "metadata": {},
     "output_type": "display_data"
    }
   ],
   "source": [
    "import matplotlib.pyplot as plt\n",
    "plt.scatter([p[1] for p in points], [p[0] for p in points], s=1, alpha=0.5)\n",
    "plt.ylim(-20, 20)\n",
    "plt.xlim(-20, 20)"
   ]
  },
  {
   "cell_type": "code",
   "execution_count": 15,
   "metadata": {},
   "outputs": [
    {
     "data": {
      "text/plain": [
       "[1, 2, 3]"
      ]
     },
     "execution_count": 15,
     "metadata": {},
     "output_type": "execute_result"
    }
   ],
   "source": [
    "sorted([1, 3, 2])"
   ]
  },
  {
   "cell_type": "code",
   "execution_count": null,
   "metadata": {},
   "outputs": [],
   "source": []
  }
 ],
 "metadata": {
  "kernelspec": {
   "display_name": "py312",
   "language": "python",
   "name": "python3"
  },
  "language_info": {
   "codemirror_mode": {
    "name": "ipython",
    "version": 3
   },
   "file_extension": ".py",
   "mimetype": "text/x-python",
   "name": "python",
   "nbconvert_exporter": "python",
   "pygments_lexer": "ipython3",
   "version": "3.12.0"
  }
 },
 "nbformat": 4,
 "nbformat_minor": 2
}
