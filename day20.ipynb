{
 "cells": [
  {
   "cell_type": "code",
   "execution_count": 1,
   "metadata": {},
   "outputs": [
    {
     "data": {
      "text/plain": [
       "(58, 5)"
      ]
     },
     "execution_count": 1,
     "metadata": {},
     "output_type": "execute_result"
    }
   ],
   "source": [
    "from tools import get_input\n",
    "import numpy as np\n",
    "\n",
    "data, data_test = get_input(20)\n",
    "len(data), len(data_test)"
   ]
  },
  {
   "cell_type": "code",
   "execution_count": 38,
   "metadata": {},
   "outputs": [],
   "source": [
    "f = open(f\"data/20_test.txt\", \"r\")\n",
    "data_test = f.readlines()\n",
    "data_test = [l[:-1] for l in data_test]\n",
    "\n",
    "f = open(f\"data/20_test2.txt\", \"r\")\n",
    "data_test2 = f.readlines()\n",
    "data_test2 = [l[:-1] for l in data_test2]"
   ]
  },
  {
   "cell_type": "code",
   "execution_count": 111,
   "metadata": {},
   "outputs": [
    {
     "name": "stdout",
     "output_type": "stream",
     "text": [
      "{'a': 0, 'b': 0, 'c': 0}\n",
      "{'broadcaster': ['a', 'b', 'c'], 'a': ['b'], 'b': ['c'], 'c': ['inv'], 'inv': ['a']}\n",
      "{'inv': {'c': 0}}\n"
     ]
    }
   ],
   "source": [
    "L = data_test\n",
    "\n",
    "def initialize(L):\n",
    "    states = {}\n",
    "    conj = set()\n",
    "    destinations = {}\n",
    "    for line in L:\n",
    "        name, sdest = [s.strip() for s in line.split(\"->\")]\n",
    "        dest = [s.strip() for s in sdest.split(\",\")]\n",
    "        if name != \"broadcaster\":\n",
    "            prefix = name[0]\n",
    "            id = name[1:]\n",
    "            if prefix == \"%\":\n",
    "                states[id] = 0\n",
    "            elif prefix == \"&\":\n",
    "                conj.add(id)\n",
    "        else:\n",
    "            id = name\n",
    "        destinations[id] = dest\n",
    "\n",
    "    memory = {}\n",
    "    for name in conj:\n",
    "        list_origins = [k for k, v in destinations.items() if name in v]\n",
    "        memory[name] = {k:0 for k in list_origins}\n",
    "\n",
    "    return states, destinations, memory\n",
    "\n",
    "states, destinations, memory = initialize(L)\n",
    "print(states)\n",
    "print(destinations)\n",
    "print(memory)"
   ]
  },
  {
   "cell_type": "code",
   "execution_count": 117,
   "metadata": {},
   "outputs": [
    {
     "name": "stdout",
     "output_type": "stream",
     "text": [
      "17775 43921 780695775\n"
     ]
    }
   ],
   "source": [
    "# push button > low pulse to broadcaster\n",
    "def advance(states, memory, pulses):\n",
    "    #print(pulses)\n",
    "    # pulses are (previous node, low/high, receiver)\n",
    "    pulses = [(a, b, c) for a, b, c in pulses if c in destinations.keys()]\n",
    "    for name in memory:\n",
    "        for origin in memory[name]:\n",
    "            for p in [p[1] for p in pulses if p[2] == name and p[0] == origin]:\n",
    "                memory[name][origin] = p\n",
    "    if len(pulses) == 0:\n",
    "        return 0, 0, states\n",
    "    new_pulses = []\n",
    "    for name in set([p[2] for p in pulses]): \n",
    "        dest = destinations[name]  \n",
    "        if name in memory.keys(): # conjunction module\n",
    "            newp = 1 - all(memory[name].values())\n",
    "            new_pulses.extend([(name, newp, d) for d in dest])\n",
    "        elif name in states.keys(): #flipflop module\n",
    "            p = [p[1] for p in pulses if p[2] == name][0]\n",
    "            if p==0:\n",
    "                states[name] = 1 - states[name]\n",
    "                newp = states[name]\n",
    "                new_pulses.extend([(name, newp, d) for d in dest])\n",
    "        else:\n",
    "            new_pulses.extend([(name, p[1], d) for d in dest for p in pulses if p[2] == name])\n",
    "\n",
    "    k0, k1, res = advance(states, memory, new_pulses)\n",
    "    k0 += len([p for p in new_pulses if p[1] == 0])\n",
    "    k1 += len([p for p in new_pulses if p[1] == 1])\n",
    "    return k0, k1, res\n",
    "\n",
    "states, destinations, memory = initialize(data)\n",
    "\n",
    "nk0, nk1 = 0, 0\n",
    "for i in range(1000):\n",
    "    nk0 += 1\n",
    "    nk1 += 0 \n",
    "    pulses = [('button', 0, 'broadcaster')]\n",
    "    k0, k1, modules = advance(states, memory, pulses)\n",
    "    nk0 += k0\n",
    "    nk1 += k1\n",
    "print(nk0, nk1, nk0*nk1)"
   ]
  },
  {
   "cell_type": "code",
   "execution_count": null,
   "metadata": {},
   "outputs": [],
   "source": []
  }
 ],
 "metadata": {
  "kernelspec": {
   "display_name": "py311",
   "language": "python",
   "name": "python3"
  },
  "language_info": {
   "codemirror_mode": {
    "name": "ipython",
    "version": 3
   },
   "file_extension": ".py",
   "mimetype": "text/x-python",
   "name": "python",
   "nbconvert_exporter": "python",
   "pygments_lexer": "ipython3",
   "version": "3.11.5"
  }
 },
 "nbformat": 4,
 "nbformat_minor": 2
}
