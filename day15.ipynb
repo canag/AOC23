{
 "cells": [
  {
   "cell_type": "code",
   "execution_count": 6,
   "metadata": {},
   "outputs": [
    {
     "name": "stderr",
     "output_type": "stream",
     "text": [
      "  % Total    % Received % Xferd  Average Speed   Time    Time     Time  Current\n",
      "                                 Dload  Upload   Total   Spent    Left  Speed\n",
      "100 22972  100 22972    0     0  51819      0 --:--:-- --:--:-- --:--:-- 51855\n",
      "  % Total    % Received % Xferd  Average Speed   Time    Time     Time  Current\n",
      "                                 Dload  Upload   Total   Spent    Left  Speed\n",
      "100 11099    0 11099    0     0  30142      0 --:--:-- --:--:-- --:--:-- 30078\n"
     ]
    },
    {
     "data": {
      "text/plain": [
       "(1, 1)"
      ]
     },
     "execution_count": 6,
     "metadata": {},
     "output_type": "execute_result"
    }
   ],
   "source": [
    "from tools import get_input\n",
    "\n",
    "data, data_test = get_input(15)\n",
    "len(data), len(data_test)"
   ]
  },
  {
   "cell_type": "code",
   "execution_count": 47,
   "metadata": {},
   "outputs": [
    {
     "data": {
      "text/plain": [
       "507291"
      ]
     },
     "execution_count": 47,
     "metadata": {},
     "output_type": "execute_result"
    }
   ],
   "source": [
    "def get_hash(s):\n",
    "    z = 0\n",
    "    for c in s:\n",
    "        z = 17*(z+ord(c)) % 256\n",
    "    return z\n",
    "\n",
    "# elements = (data_test[0]+\"7\").split(\",\")\n",
    "elements = (data[0]).split(\",\")\n",
    "S = 0\n",
    "for e in elements:\n",
    "    S += get_hash(e)\n",
    "S"
   ]
  },
  {
   "cell_type": "code",
   "execution_count": 48,
   "metadata": {},
   "outputs": [
    {
     "data": {
      "text/plain": [
       "296921"
      ]
     },
     "execution_count": 48,
     "metadata": {},
     "output_type": "execute_result"
    }
   ],
   "source": [
    "#elements = (data_test[0]+\"7\").split(\",\")\n",
    "elements = (data[0]).split(\",\")\n",
    "d = {}\n",
    "for i in range(256):\n",
    "    d[i] = {}\n",
    "for e in elements:\n",
    "    if \"-\" in e:\n",
    "        a, b = e.split(\"-\")\n",
    "        i = get_hash(a)\n",
    "        if a in d[i]:\n",
    "            del d[i][a]\n",
    "    if \"=\" in e:\n",
    "        a, b = e.split(\"=\")\n",
    "        i = get_hash(a)\n",
    "        d[i][a] = int(b)\n",
    "power = 0\n",
    "for k in d.keys():\n",
    "    for i, kk in enumerate(d[k].keys()):\n",
    "        power += (k+1) * (i+1) * d[k][kk]\n",
    "power"
   ]
  },
  {
   "cell_type": "code",
   "execution_count": null,
   "metadata": {},
   "outputs": [],
   "source": []
  }
 ],
 "metadata": {
  "kernelspec": {
   "display_name": "py312",
   "language": "python",
   "name": "python3"
  },
  "language_info": {
   "codemirror_mode": {
    "name": "ipython",
    "version": 3
   },
   "file_extension": ".py",
   "mimetype": "text/x-python",
   "name": "python",
   "nbconvert_exporter": "python",
   "pygments_lexer": "ipython3",
   "version": "3.12.0"
  }
 },
 "nbformat": 4,
 "nbformat_minor": 2
}
