{
 "cells": [
  {
   "cell_type": "code",
   "execution_count": 92,
   "metadata": {},
   "outputs": [
    {
     "data": {
      "text/plain": [
       "(141, 13)"
      ]
     },
     "execution_count": 92,
     "metadata": {},
     "output_type": "execute_result"
    }
   ],
   "source": [
    "from tools import get_input\n",
    "\n",
    "data, data_test = get_input(17)\n",
    "len(data), len(data_test)"
   ]
  },
  {
   "cell_type": "code",
   "execution_count": 94,
   "metadata": {},
   "outputs": [
    {
     "name": "stdout",
     "output_type": "stream",
     "text": [
      "665\n"
     ]
    },
    {
     "data": {
      "text/plain": [
       "665"
      ]
     },
     "execution_count": 94,
     "metadata": {},
     "output_type": "execute_result"
    }
   ],
   "source": [
    "from heapq import heappush, heappop\n",
    "\n",
    "L = [list(map(int, line)) for line in data]\n",
    "Nrows = len(L)\n",
    "Ncols = len(L[0])\n",
    "prev_node = {}\n",
    "start = (0, 0, 4, 0) #row, col, previous direction, nbr of moves since last turn\n",
    "cost = {(i, j, k, l): 99999 for i in range(Nrows) for j in range(Ncols) for k in range(4) for l in range(4)}\n",
    "#prev_direction = {(i, j): (4,4)  for i in range(Nrows) for j in range(Ncols)}\n",
    "# index of the direction and nbr of moves since last turn\n",
    "def dijkstra(start, cost):\n",
    "    cost[start] = 0 \n",
    "    q = [(0, start)]\n",
    "    directions = [(-1, 0), (0, 1), (1, 0), (0, -1)]\n",
    "    seen = set()\n",
    "\n",
    "    while q:\n",
    "        c, node = heappop(q)\n",
    "        i, j, prevdir, n = node\n",
    "        if i==Nrows-1 and j==Ncols-1:\n",
    "           print(c)\n",
    "           break\n",
    "        if node in seen:\n",
    "               continue\n",
    "        seen.add(node)\n",
    "        if cost[node] < c:\n",
    "            continue #already found a better path for n\n",
    "        for newdir, move in enumerate(directions):\n",
    "            # compute new node\n",
    "            ii, jj = (i+move[0], j+move[1])\n",
    "            if newdir == prevdir:\n",
    "                newn = n + 1\n",
    "            else:\n",
    "                newn = 1\n",
    "            newnode = (ii, jj, newdir, newn)\n",
    "\n",
    "            # check if new node is valid\n",
    "            if ii < 0 or ii >= Nrows or jj < 0 or jj >= Ncols or newn==4 or (newdir-prevdir)%4==2:\n",
    "                continue\n",
    "            \n",
    "            # check if new node is better\n",
    "            val = L[ii][jj]\n",
    "            if(cost[newnode] > (c+val)):\n",
    "                cost[newnode] = c+val\n",
    "                heappush(q, (c+val, newnode))\n",
    "                prev_node[newnode] = node\n",
    "    return cost, prev_node\n",
    "cost, prev_node = dijkstra(start, cost)\n",
    "res = [(k, c) for k, c in cost.items() if k[0]==Nrows-1 and k[1]==Ncols-1 and c<99999]\n",
    "min([c for (_, c) in res])"
   ]
  },
  {
   "cell_type": "code",
   "execution_count": 100,
   "metadata": {},
   "outputs": [
    {
     "name": "stdout",
     "output_type": "stream",
     "text": [
      "809\n"
     ]
    },
    {
     "data": {
      "text/plain": [
       "809"
      ]
     },
     "execution_count": 100,
     "metadata": {},
     "output_type": "execute_result"
    }
   ],
   "source": [
    "L = [list(map(int, line)) for line in data]\n",
    "#L = [[1, 9, 9, 9, 9], [1, 9, 9, 9, 9], [1, 9, 9, 9, 9], [1, 9, 9, 9, 9], [1, 1, 1, 1, 1]]\n",
    "Nrows = len(L)\n",
    "Ncols = len(L[0])\n",
    "prev_node = {}\n",
    "start = (0, 0, 4, 5) #row, col, previous direction, nbr of moves since last turn\n",
    "cost = {(i, j, k, l): 99999 for i in range(Nrows) for j in range(Ncols) for k in range(4) for l in range(11)}\n",
    "#prev_direction = {(i, j): (4,4)  for i in range(Nrows) for j in range(Ncols)}\n",
    "# index of the direction and nbr of moves since last turn\n",
    "def dijkstra(start, cost):\n",
    "    cost[start] = 0 \n",
    "    q = [(0, start)]\n",
    "    directions = [(-1, 0), (0, 1), (1, 0), (0, -1)]\n",
    "    seen = set()\n",
    "\n",
    "    while q:\n",
    "        c, node = heappop(q)\n",
    "        i, j, prevdir, n = node\n",
    "        if i==Nrows-1 and j==Ncols-1 and n>=4:\n",
    "           print(c)\n",
    "           break\n",
    "        if node in seen:\n",
    "               continue\n",
    "        seen.add(node)\n",
    "        if cost[node] < c:\n",
    "            continue #already found a better path for n\n",
    "        for newdir, move in enumerate(directions):\n",
    "            # compute new node\n",
    "            ii, jj = (i+move[0], j+move[1])\n",
    "            if newdir == prevdir:\n",
    "                newn = n + 1\n",
    "            else:\n",
    "                newn = 1\n",
    "            newnode = (ii, jj, newdir, newn)\n",
    "\n",
    "            # check if new node is valid\n",
    "            if ii < 0 or ii >= Nrows or jj < 0 or jj >= Ncols:\n",
    "                continue\n",
    "            if newn==11 or ((newdir-prevdir)%4==2 and prevdir!=4):\n",
    "                continue\n",
    "            if newdir != prevdir and n<4:\n",
    "                continue\n",
    "            \n",
    "            # check if new node is better\n",
    "            val = L[ii][jj]\n",
    "            if(cost[newnode] > (c+val)):\n",
    "                cost[newnode] = c+val\n",
    "                heappush(q, (c+val, newnode))\n",
    "                prev_node[newnode] = node\n",
    "    return cost, prev_node\n",
    "cost, prev_node = dijkstra(start, cost)\n",
    "res = [(k, c) for k, c in cost.items() if k[0]==Nrows-1 and k[1]==Ncols-1 and k[3]>=4 and c<99999]\n",
    "min([c for (_, c) in res])"
   ]
  },
  {
   "cell_type": "code",
   "execution_count": 97,
   "metadata": {},
   "outputs": [
    {
     "name": "stdout",
     "output_type": "stream",
     "text": [
      "[((4, 4, 2, 4), 64)]\n",
      "(4, 4, 2, 4) 64\n",
      "(3, 4, 2, 3) 63\n",
      "(2, 4, 2, 2) 54\n",
      "(1, 4, 2, 1) 45\n",
      "(0, 4, 1, 4) 36\n",
      "(0, 3, 1, 3) 27\n",
      "(0, 2, 1, 2) 18\n",
      "(0, 1, 1, 1) 9\n"
     ]
    }
   ],
   "source": [
    "print(res)\n",
    "node = res[0][0]\n",
    "while node != start:\n",
    "    print(node, cost[node])\n",
    "    node = prev_node[node]\n"
   ]
  },
  {
   "cell_type": "code",
   "execution_count": null,
   "metadata": {},
   "outputs": [],
   "source": []
  }
 ],
 "metadata": {
  "kernelspec": {
   "display_name": "py312",
   "language": "python",
   "name": "python3"
  },
  "language_info": {
   "codemirror_mode": {
    "name": "ipython",
    "version": 3
   },
   "file_extension": ".py",
   "mimetype": "text/x-python",
   "name": "python",
   "nbconvert_exporter": "python",
   "pygments_lexer": "ipython3",
   "version": "3.11.5"
  }
 },
 "nbformat": 4,
 "nbformat_minor": 2
}
