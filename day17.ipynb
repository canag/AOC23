{
 "cells": [
  {
   "cell_type": "code",
   "execution_count": 2,
   "metadata": {},
   "outputs": [
    {
     "data": {
      "text/plain": [
       "(141, 13)"
      ]
     },
     "execution_count": 2,
     "metadata": {},
     "output_type": "execute_result"
    }
   ],
   "source": [
    "from tools import get_input\n",
    "\n",
    "data, data_test = get_input(17)\n",
    "len(data), len(data_test)"
   ]
  },
  {
   "cell_type": "code",
   "execution_count": 40,
   "metadata": {},
   "outputs": [
    {
     "data": {
      "text/plain": [
       "44"
      ]
     },
     "execution_count": 40,
     "metadata": {},
     "output_type": "execute_result"
    }
   ],
   "source": [
    "N = 16\n",
    "L = [line[:N] for line in data[:N]]\n",
    "Nrows = len(L)\n",
    "Ncols = len(L[0])\n",
    "prev_node = {}\n",
    "start = (0, 0, 4, 0) #row, col, previous direction, nbr of moves since last turn\n",
    "cost = {(i, j, k, l): 99999 for i in range(Nrows) for j in range(Ncols) for k in range(4) for l in range(4)}\n",
    "#prev_direction = {(i, j): (4,4)  for i in range(Nrows) for j in range(Ncols)}\n",
    "# index of the direction and nbr of moves since last turn\n",
    "def dijkstra(start, cost):\n",
    "    q = []\n",
    "    cost[start] = 0 \n",
    "    q.append((start, 0))\n",
    "    directions = [(-1, 0), (0, 1), (1, 0), (0, -1)]\n",
    "    while len(q)>0:\n",
    "        node, c = q.pop()\n",
    "        i, j, prevdir, n = node\n",
    "        if cost[node] < c:\n",
    "            continue #already found a better path for n\n",
    "        for newdir, move in enumerate(directions):\n",
    "            # compute new node\n",
    "            ii, jj = (i+move[0], j+move[1])\n",
    "            if newdir == prevdir:\n",
    "                newn = n + 1\n",
    "            else:\n",
    "                newn = 1\n",
    "            newnode = (ii, jj, newdir, newn)\n",
    "\n",
    "            # check if new node is valid\n",
    "            if ii < 0 or ii >= Nrows:\n",
    "                continue\n",
    "            if jj < 0 or jj >= Ncols:\n",
    "                continue \n",
    "            if newn==4:\n",
    "                continue\n",
    "            if (newdir-prevdir)%4==2:\n",
    "                continue\n",
    "            \n",
    "            # check if new node is better\n",
    "            val = int(L[ii][jj])\n",
    "            if(cost[newnode] > (c+val)):\n",
    "                cost[newnode] = c+val\n",
    "                q.append((newnode, c+val))\n",
    "                prev_node[newnode] = node\n",
    "    return cost, prev_node\n",
    "cost, prev_node = dijkstra(start, cost)\n",
    "res = [(k, c) for k, c in cost.items() if k[0]==Nrows-1 and k[1]==Ncols-1 and c<99999]\n",
    "min([c for (_, c) in res])"
   ]
  },
  {
   "cell_type": "code",
   "execution_count": 34,
   "metadata": {},
   "outputs": [
    {
     "name": "stdout",
     "output_type": "stream",
     "text": [
      "(12, 12, 1, 1) 102\n",
      "(12, 11, 2, 2) 99\n",
      "(11, 11, 2, 1) 96\n",
      "(10, 11, 3, 1) 93\n",
      "(10, 12, 2, 3) 87\n",
      "(9, 12, 2, 2) 84\n",
      "(8, 12, 2, 1) 81\n",
      "(7, 12, 1, 1) 74\n",
      "(7, 11, 2, 3) 71\n",
      "(6, 11, 2, 2) 66\n",
      "(5, 11, 2, 1) 60\n",
      "(4, 11, 1, 1) 55\n",
      "(4, 10, 2, 2) 52\n",
      "(3, 10, 2, 1) 47\n",
      "(2, 10, 1, 2) 43\n",
      "(2, 9, 1, 1) 41\n",
      "(2, 8, 2, 2) 37\n",
      "(1, 8, 2, 1) 32\n",
      "(0, 8, 1, 3) 29\n",
      "(0, 7, 1, 2) 28\n",
      "(0, 6, 1, 1) 25\n",
      "(0, 5, 0, 1) 23\n",
      "(1, 5, 1, 3) 20\n",
      "(1, 4, 1, 2) 15\n",
      "(1, 3, 1, 1) 11\n",
      "(1, 2, 2, 1) 6\n",
      "(0, 2, 1, 2) 5\n",
      "(0, 1, 1, 1) 4\n"
     ]
    }
   ],
   "source": [
    "node = (12, 12, 1, 1)\n",
    "while node[0]+node[1]>0:\n",
    "    print(node, cost[node])\n",
    "    node = prev_node[node]"
   ]
  },
  {
   "cell_type": "code",
   "execution_count": null,
   "metadata": {},
   "outputs": [],
   "source": []
  }
 ],
 "metadata": {
  "kernelspec": {
   "display_name": "py312",
   "language": "python",
   "name": "python3"
  },
  "language_info": {
   "codemirror_mode": {
    "name": "ipython",
    "version": 3
   },
   "file_extension": ".py",
   "mimetype": "text/x-python",
   "name": "python",
   "nbconvert_exporter": "python",
   "pygments_lexer": "ipython3",
   "version": "3.11.5"
  }
 },
 "nbformat": 4,
 "nbformat_minor": 2
}
