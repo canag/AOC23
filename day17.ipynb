{
 "cells": [
  {
   "cell_type": "code",
   "execution_count": 1,
   "metadata": {},
   "outputs": [
    {
     "name": "stderr",
     "output_type": "stream",
     "text": [
      "  % Total    % Received % Xferd  Average Speed   Time    Time     Time  Current\n",
      "                                 Dload  Upload   Total   Spent    Left  Speed\n",
      "100 20022  100 20022    0     0  45319      0 --:--:-- --:--:-- --:--:-- 45401\n",
      "  % Total    % Received % Xferd  Average Speed   Time    Time     Time  Current\n",
      "                                 Dload  Upload   Total   Spent    Left  Speed\n",
      "100  8028    0  8028    0     0  23126      0 --:--:-- --:--:-- --:--:-- 23135\n"
     ]
    },
    {
     "data": {
      "text/plain": [
       "(141, 13)"
      ]
     },
     "execution_count": 1,
     "metadata": {},
     "output_type": "execute_result"
    }
   ],
   "source": [
    "from tools import get_input\n",
    "\n",
    "data, data_test = get_input(17)\n",
    "len(data), len(data_test)"
   ]
  },
  {
   "cell_type": "code",
   "execution_count": 28,
   "metadata": {},
   "outputs": [
    {
     "name": "stdout",
     "output_type": "stream",
     "text": [
      "2413432311323\n",
      "3215453535623\n",
      "3255245654254\n",
      "3446585845452\n",
      "4546657867536\n",
      "1438598798454\n",
      "4457876987766\n",
      "3637877979653\n",
      "4654967986887\n",
      "4564679986453\n",
      "1224686865563\n",
      "2546548887735\n",
      "4322674655533\n"
     ]
    }
   ],
   "source": [
    "L = data_test\n",
    "Nrows = len(L)\n",
    "Ncols = len(L[0])\n",
    "for line in L:\n",
    "    print(line)"
   ]
  },
  {
   "cell_type": "code",
   "execution_count": 43,
   "metadata": {},
   "outputs": [
    {
     "data": {
      "text/plain": [
       "105"
      ]
     },
     "execution_count": 43,
     "metadata": {},
     "output_type": "execute_result"
    }
   ],
   "source": [
    "start = (0, 0)\n",
    "cost = {(i, j): 99999 for i in range(Nrows) for j in range(Ncols)}\n",
    "prev_direction = {(i, j): (4,4)  for i in range(Nrows) for j in range(Ncols)}\n",
    "# index of the direction and nbr of moves since last turn\n",
    "def dijkstra(start, cost):\n",
    "    q = []\n",
    "    cost[start] = 0 \n",
    "    q.append((start, 0))\n",
    "    while len(q)>0:\n",
    "        pos,c = q.pop() #node, cost\n",
    "        if cost[pos] != c:\n",
    "            continue #already found a better path for n\n",
    "        directions = [(1, 0), (-1, 0), (0, 1), (0, -1)]\n",
    "        for kdir, dir in enumerate(directions):\n",
    "            next_pos = (pos[0]+dir[0], pos[1]+dir[1])\n",
    "            if next_pos[0] < 0 or next_pos[0] >= Nrows:\n",
    "                continue\n",
    "            if next_pos[1] < 0 or next_pos[1] >= Ncols:\n",
    "                continue\n",
    "            if kdir == prev_direction[pos][0] and prev_direction[pos][1]==3:\n",
    "                continue\n",
    "            val = int(L[next_pos[0]][next_pos[1]])\n",
    "            if(cost[next_pos] > (c+val)):\n",
    "                cost[next_pos] = c+val\n",
    "                if kdir == prev_direction[pos][0]:\n",
    "                    prev_direction[next_pos] = kdir, prev_direction[pos][1]+1\n",
    "                else:\n",
    "                    prev_direction[next_pos] = kdir, 1\n",
    "                q.append((next_pos,c+val))\n",
    "dijkstra(start, cost)\n",
    "cost[(Nrows-1, Ncols-1)]"
   ]
  },
  {
   "cell_type": "code",
   "execution_count": 44,
   "metadata": {},
   "outputs": [
    {
     "name": "stdout",
     "output_type": "stream",
     "text": [
      "4>>>^>>>>>^^> 4123112333111\n",
      "v>v>>>>vvv>>> 1111233111123\n",
      "vvvvv>>>vv>>v 2121112322121\n",
      "vvv>vvv>vvv>v 3231211133112\n",
      "vv>>v>v>><vvv 2312312121213\n",
      "v>v>>vvvv<vv> 3111213111321\n",
      "<vv>>v>vvvvvv 1121221221131\n",
      "vvv>>>vvvvv<v 1231231332212\n",
      "vvvv>>>>>vvvv 2331123123313\n",
      "v><v>>>vvv<v> 3112123111121\n",
      "<v>v>>>>>vvvv 1113123332131\n",
      "vvvvv>>>^^v<v 1213112311212\n",
      "vvv>>>>>>>vvv 2321231233313\n"
     ]
    }
   ],
   "source": [
    "for i, line in enumerate(L):\n",
    "    for j, val in enumerate(line):\n",
    "        if (i,j) in prev_direction.keys():\n",
    "            val = str(prev_direction[(i,j)][0]).replace('0', 'v').replace('1', '^').replace('2', '>').replace('3', '<')\n",
    "        print(val, end='')\n",
    "    print(\" \", end='')\n",
    "    for j, val in enumerate(line):\n",
    "        if (i,j) in prev_direction.keys():\n",
    "            val = str(prev_direction[(i,j)][1])\n",
    "        print(val, end='')\n",
    "    print()"
   ]
  },
  {
   "cell_type": "code",
   "execution_count": null,
   "metadata": {},
   "outputs": [],
   "source": []
  }
 ],
 "metadata": {
  "kernelspec": {
   "display_name": "py312",
   "language": "python",
   "name": "python3"
  },
  "language_info": {
   "codemirror_mode": {
    "name": "ipython",
    "version": 3
   },
   "file_extension": ".py",
   "mimetype": "text/x-python",
   "name": "python",
   "nbconvert_exporter": "python",
   "pygments_lexer": "ipython3",
   "version": "3.12.0"
  }
 },
 "nbformat": 4,
 "nbformat_minor": 2
}
