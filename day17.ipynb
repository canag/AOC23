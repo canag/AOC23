{
 "cells": [
  {
   "cell_type": "code",
   "execution_count": 1,
   "metadata": {},
   "outputs": [
    {
     "name": "stderr",
     "output_type": "stream",
     "text": [
      "  % Total    % Received % Xferd  Average Speed   Time    Time     Time  Current\n",
      "                                 Dload  Upload   Total   Spent    Left  Speed\n",
      "100 20022  100 20022    0     0  45319      0 --:--:-- --:--:-- --:--:-- 45401\n",
      "  % Total    % Received % Xferd  Average Speed   Time    Time     Time  Current\n",
      "                                 Dload  Upload   Total   Spent    Left  Speed\n",
      "100  8028    0  8028    0     0  23126      0 --:--:-- --:--:-- --:--:-- 23135\n"
     ]
    },
    {
     "data": {
      "text/plain": [
       "(141, 13)"
      ]
     },
     "execution_count": 1,
     "metadata": {},
     "output_type": "execute_result"
    }
   ],
   "source": [
    "from tools import get_input\n",
    "\n",
    "data, data_test = get_input(17)\n",
    "len(data), len(data_test)"
   ]
  },
  {
   "cell_type": "code",
   "execution_count": 54,
   "metadata": {},
   "outputs": [
    {
     "data": {
      "text/plain": [
       "382"
      ]
     },
     "execution_count": 54,
     "metadata": {},
     "output_type": "execute_result"
    }
   ],
   "source": [
    "L = data[:20]\n",
    "Nrows = len(L)\n",
    "Ncols = len(L[0])\n",
    "\n",
    "start = (0, 0)\n",
    "cost = {(i, j): 99999 for i in range(Nrows) for j in range(Ncols)}\n",
    "#prev_direction = {(i, j): (4,4)  for i in range(Nrows) for j in range(Ncols)}\n",
    "# index of the direction and nbr of moves since last turn\n",
    "def dijkstra(start, cost):\n",
    "    q = []\n",
    "    cost[start] = 0 \n",
    "    q.append((start, (4, 0), 0))\n",
    "    while len(q)>0:\n",
    "        pos, p_dir, c = q.pop() #node, prev_dir, cost\n",
    "        if cost[pos] != c:\n",
    "            continue #already found a better path for n\n",
    "        directions = [(1, 0), (-1, 0), (0, 1), (0, -1)]\n",
    "        for kdir, dir in enumerate(directions):\n",
    "            next_pos = (pos[0]+dir[0], pos[1]+dir[1])\n",
    "            if next_pos[0] < 0 or next_pos[0] >= Nrows:\n",
    "                continue\n",
    "            if next_pos[1] < 0 or next_pos[1] >= Ncols:\n",
    "                continue\n",
    "            if kdir == p_dir[0] and p_dir[1]==3:\n",
    "                continue\n",
    "            val = int(L[next_pos[0]][next_pos[1]])\n",
    "            if(cost[next_pos] > (c+val)):\n",
    "                cost[next_pos] = c+val\n",
    "                if kdir == p_dir[0]:\n",
    "                    newp_dir = kdir, p_dir[1]+1\n",
    "                else:\n",
    "                    newp_dir = kdir, 1\n",
    "                q.append((next_pos, newp_dir, c+val))\n",
    "dijkstra(start, cost)\n",
    "cost[(Nrows-1, Ncols-1)] - int(L[Nrows-1][Ncols-1])"
   ]
  },
  {
   "cell_type": "code",
   "execution_count": null,
   "metadata": {},
   "outputs": [],
   "source": []
  }
 ],
 "metadata": {
  "kernelspec": {
   "display_name": "py312",
   "language": "python",
   "name": "python3"
  },
  "language_info": {
   "codemirror_mode": {
    "name": "ipython",
    "version": 3
   },
   "file_extension": ".py",
   "mimetype": "text/x-python",
   "name": "python",
   "nbconvert_exporter": "python",
   "pygments_lexer": "ipython3",
   "version": "3.12.0"
  }
 },
 "nbformat": 4,
 "nbformat_minor": 2
}
