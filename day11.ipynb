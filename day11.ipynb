{
 "cells": [
  {
   "cell_type": "code",
   "execution_count": 40,
   "metadata": {},
   "outputs": [
    {
     "data": {
      "text/plain": [
       "(140, 10)"
      ]
     },
     "execution_count": 40,
     "metadata": {},
     "output_type": "execute_result"
    }
   ],
   "source": [
    "from tools import get_input\n",
    "import numpy as np\n",
    "\n",
    "data, data_test = get_input(11)\n",
    "len(data), len(data_test)"
   ]
  },
  {
   "cell_type": "code",
   "execution_count": 70,
   "metadata": {},
   "outputs": [
    {
     "name": "stdout",
     "output_type": "stream",
     "text": [
      "96580 couples of stars\n"
     ]
    },
    {
     "data": {
      "text/plain": [
       "9545480"
      ]
     },
     "execution_count": 70,
     "metadata": {},
     "output_type": "execute_result"
    }
   ],
   "source": [
    "L = data.copy()\n",
    "Nrows = len(L)\n",
    "Ncols = len(L[0])\n",
    "\n",
    "# expansion\n",
    "#shift = 1\n",
    "shift = 1_000_000 - 1\n",
    "k_rows = np.zeros(Nrows, dtype=np.int64)\n",
    "k_cols = np.zeros(Ncols, dtype=np.int64)\n",
    "for i in range(Nrows):\n",
    "    for j in range(Ncols):\n",
    "        if L[i][j] == '#':\n",
    "            k_rows[i] = 1\n",
    "            k_cols[j] = 1\n",
    "\n",
    "empty_rows = np.where(k_rows==0)[0]\n",
    "empty_cols = np.where(k_cols==0)[0]\n",
    "def new_i(i, shift):\n",
    "    return i + shift *(empty_rows<i).sum()\n",
    "def new_j(j, shift):\n",
    "    return j + shift *(empty_cols<j).sum()\n",
    "\n",
    "stars = []\n",
    "for i in range(Nrows):\n",
    "    for j in range(Ncols):\n",
    "        if L[i][j] == '#':\n",
    "            stars.append((new_i(i, shift),new_j(j, shift)))\n",
    "n = len(stars)\n",
    "print(n*(n-1)//2, \"couples of stars\")\n",
    "\n",
    "S = np.int64(0)\n",
    "for k, (i,j) in enumerate(stars):\n",
    "    for (ii,jj) in stars[k+1:]:\n",
    "        S += abs(ii-i) + abs(jj-j)\n",
    "S\n",
    "\n"
   ]
  },
  {
   "cell_type": "code",
   "execution_count": null,
   "metadata": {},
   "outputs": [],
   "source": []
  }
 ],
 "metadata": {
  "kernelspec": {
   "display_name": "py311",
   "language": "python",
   "name": "python3"
  },
  "language_info": {
   "codemirror_mode": {
    "name": "ipython",
    "version": 3
   },
   "file_extension": ".py",
   "mimetype": "text/x-python",
   "name": "python",
   "nbconvert_exporter": "python",
   "pygments_lexer": "ipython3",
   "version": "3.11.5"
  }
 },
 "nbformat": 4,
 "nbformat_minor": 2
}
