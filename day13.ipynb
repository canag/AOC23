{
 "cells": [
  {
   "cell_type": "code",
   "execution_count": 9,
   "metadata": {},
   "outputs": [
    {
     "data": {
      "text/plain": [
       "(1357, 15)"
      ]
     },
     "execution_count": 9,
     "metadata": {},
     "output_type": "execute_result"
    }
   ],
   "source": [
    "from tools import get_input\n",
    "import numpy as np\n",
    "\n",
    "data, data_test = get_input(13)\n",
    "len(data), len(data_test)"
   ]
  },
  {
   "cell_type": "code",
   "execution_count": 51,
   "metadata": {},
   "outputs": [
    {
     "data": {
      "text/plain": [
       "(33780, 23479)"
      ]
     },
     "execution_count": 51,
     "metadata": {},
     "output_type": "execute_result"
    }
   ],
   "source": [
    "L = data\n",
    "blocks = [line.split(\"\\n\") for line in \"\\n\".join(L).split(\"\\n\\n\")]\n",
    "\n",
    "def find_mirrors_for_block(A):\n",
    "    m_rows = []\n",
    "    m_cols = []\n",
    "\n",
    "    for j in range(1,Ncols):\n",
    "        ncols = min(j, Ncols - j)\n",
    "        if np.array_equal(A[:,j-ncols:j], A[:,j+ncols-1:j-1:-1]):\n",
    "            m_cols.append(j)\n",
    "\n",
    "    for i in range(1,Nrows):\n",
    "        nrows = min(i, Nrows - i)\n",
    "        if np.array_equal(A[i-nrows:i,:], A[i+nrows-1:i-1:-1,:]):\n",
    "            m_rows.append(i)\n",
    "            \n",
    "    return m_rows, m_cols\n",
    "\n",
    "def find_new_mirrors_for_block(A):    \n",
    "    ma_rows, ma_cols = find_mirrors_for_block(A)\n",
    "    for i in range(Nrows):\n",
    "        for j in range(Ncols):\n",
    "            B = A.copy()\n",
    "            B[i,j] = 1 - B[i,j]\n",
    "            m_rows, m_cols = find_mirrors_for_block(B)\n",
    "            s1, s2 = set(m_rows) - set(ma_rows), set(m_cols) - set(ma_cols)\n",
    "            if len(s1)+len(s2)>0 :\n",
    "                return list(s1), list(s2)\n",
    "\n",
    "S1, S2 = 0, 0\n",
    "for block in blocks:\n",
    "    Nrows = len(block)\n",
    "    Ncols = len(block[0])\n",
    "    A = np.array([[int(c) for c in line.replace(\".\", \"0\").replace(\"#\", \"1\")] for line in block])\n",
    "    m_rows, m_cols = find_mirrors_for_block(A)\n",
    "    S1 += 100*sum(m_rows) + sum(m_cols)\n",
    "    m_rows, m_cols = find_new_mirrors_for_block(A)\n",
    "    S2 += 100*sum(m_rows) + sum(m_cols)\n",
    "    \n",
    "S1, S2"
   ]
  },
  {
   "cell_type": "code",
   "execution_count": null,
   "metadata": {},
   "outputs": [],
   "source": []
  }
 ],
 "metadata": {
  "kernelspec": {
   "display_name": "py311",
   "language": "python",
   "name": "python3"
  },
  "language_info": {
   "codemirror_mode": {
    "name": "ipython",
    "version": 3
   },
   "file_extension": ".py",
   "mimetype": "text/x-python",
   "name": "python",
   "nbconvert_exporter": "python",
   "pygments_lexer": "ipython3",
   "version": "3.11.5"
  }
 },
 "nbformat": 4,
 "nbformat_minor": 2
}
