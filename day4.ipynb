{
 "cells": [
  {
   "cell_type": "code",
   "execution_count": 1,
   "metadata": {},
   "outputs": [],
   "source": [
    "from tools import read, get_input\n",
    "\n",
    "data, data_test = get_input(4)"
   ]
  },
  {
   "cell_type": "code",
   "execution_count": 3,
   "metadata": {},
   "outputs": [
    {
     "data": {
      "text/plain": [
       "21959"
      ]
     },
     "execution_count": 3,
     "metadata": {},
     "output_type": "execute_result"
    }
   ],
   "source": [
    "L = data\n",
    "S = 0\n",
    "for card in L:\n",
    "    #print(card)\n",
    "    win_set = set([c for c in card.split(':')[1].split(\"|\")[0].split(\" \") if c != \"\"])\n",
    "    my_set = set([c for c in card.split(':')[1].split(\"|\")[1].split(\" \") if c != \"\"])\n",
    "    n = len([c for c in my_set if c in win_set])\n",
    "    if n>0:\n",
    "        S += 2**(n-1)\n",
    "S"
   ]
  },
  {
   "cell_type": "code",
   "execution_count": 4,
   "metadata": {},
   "outputs": [
    {
     "name": "stdout",
     "output_type": "stream",
     "text": [
      "5132675\n"
     ]
    }
   ],
   "source": [
    "d = {k: 1 for k in range(1, 1+len(L))}\n",
    "\n",
    "for i, card in enumerate(L):\n",
    "    win_set = set([c for c in card.split(':')[1].split(\"|\")[0].split(\" \") if c != \"\"])\n",
    "    my_set = set([c for c in card.split(':')[1].split(\"|\")[1].split(\" \") if c != \"\"])\n",
    "    n = len([c for c in my_set if c in win_set])\n",
    "    if n>0:\n",
    "        for k in range(i+1, i+1+n):\n",
    "            d[k+1] += d[i+1]\n",
    "print(sum(d.values()))\n"
   ]
  },
  {
   "cell_type": "code",
   "execution_count": null,
   "metadata": {},
   "outputs": [],
   "source": []
  }
 ],
 "metadata": {
  "kernelspec": {
   "display_name": "py312",
   "language": "python",
   "name": "python3"
  },
  "language_info": {
   "codemirror_mode": {
    "name": "ipython",
    "version": 3
   },
   "file_extension": ".py",
   "mimetype": "text/x-python",
   "name": "python",
   "nbconvert_exporter": "python",
   "pygments_lexer": "ipython3",
   "version": "3.11.5"
  }
 },
 "nbformat": 4,
 "nbformat_minor": 2
}
