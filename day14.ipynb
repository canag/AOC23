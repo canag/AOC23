{
 "cells": [
  {
   "cell_type": "code",
   "execution_count": 1,
   "metadata": {},
   "outputs": [
    {
     "data": {
      "text/plain": [
       "(100, 10)"
      ]
     },
     "execution_count": 1,
     "metadata": {},
     "output_type": "execute_result"
    }
   ],
   "source": [
    "from tools import get_input\n",
    "import numpy as np\n",
    "\n",
    "data, data_test = get_input(14)\n",
    "len(data), len(data_test)"
   ]
  },
  {
   "cell_type": "code",
   "execution_count": 34,
   "metadata": {},
   "outputs": [
    {
     "data": {
      "text/plain": [
       "108935"
      ]
     },
     "execution_count": 34,
     "metadata": {},
     "output_type": "execute_result"
    }
   ],
   "source": [
    "L = data\n",
    "\n",
    "def rotate_right(L):\n",
    "    tmp = list(zip(*L[::-1]))\n",
    "    res = []\n",
    "    for line in tmp:\n",
    "        res.append(\"\".join(list(line)))\n",
    "    return res\n",
    "\n",
    "def rotate_left(L):\n",
    "    tmp = list(zip(*L))[::-1]\n",
    "    res = []\n",
    "    for line in tmp:\n",
    "        res.append(\"\".join(list(line)))\n",
    "    return res\n",
    "\n",
    "def bubble_sort_east(L):\n",
    "    res = []\n",
    "    for line in L:\n",
    "        t = \"\".join(list(line))\n",
    "        sorted_line = \"#\".join([\"\".join(sorted(s)) for s in t.split(\"#\")])\n",
    "        res.append(sorted_line)\n",
    "    return res\n",
    "\n",
    "def bubble_sort_north(L):\n",
    "    return rotate_left(bubble_sort_east(rotate_right(L)))\n",
    "\n",
    "def bubble_sort_south(L):\n",
    "    return rotate_right(bubble_sort_east(rotate_left(L)))\n",
    "\n",
    "def bubble_sort_west(L):\n",
    "    return rotate_right(rotate_right(bubble_sort_east(rotate_left(rotate_left(L)))))\n",
    "\n",
    "def count_rocks_monsters(L):\n",
    "    N_rows = len(L)\n",
    "    S = 0\n",
    "    for i, line in enumerate(L[::-1]):\n",
    "        S += line.count(\"O\")*(i+1)\n",
    "    return S\n",
    "\n",
    "newL = bubble_sort_north(L)\n",
    "count_rocks_monsters(newL)"
   ]
  },
  {
   "cell_type": "code",
   "execution_count": 61,
   "metadata": {},
   "outputs": [
    {
     "data": {
      "text/plain": [
       "100876"
      ]
     },
     "execution_count": 61,
     "metadata": {},
     "output_type": "execute_result"
    }
   ],
   "source": [
    "L = data\n",
    "\n",
    "import functools\n",
    "\n",
    "Lt = tuple([tuple(line) for line in L])\n",
    "\n",
    "@functools.cache\n",
    "def make_cycle(Lt):\n",
    "    return bubble_sort_east(bubble_sort_south(bubble_sort_west(bubble_sort_north(Lt))))\n",
    "\n",
    "@functools.cache\n",
    "def make_1000cycle(Lt):\n",
    "    for i in range(1000):\n",
    "        L = make_cycle(Lt)\n",
    "        Lt = tuple([tuple(line) for line in L])\n",
    "    return L\n",
    "\n",
    "@functools.cache\n",
    "def make_1000000cycle(Lt):\n",
    "    for i in range(1000):\n",
    "        L = make_1000cycle(Lt)\n",
    "        Lt = tuple([tuple(line) for line in L])\n",
    "    return L\n",
    "\n",
    "for k in range(1000):   \n",
    "    L = make_1000000cycle(Lt)\n",
    "    Lt = tuple([tuple(line) for line in L])\n",
    "\n",
    "count_rocks_monsters(L)"
   ]
  },
  {
   "cell_type": "code",
   "execution_count": null,
   "metadata": {},
   "outputs": [],
   "source": []
  }
 ],
 "metadata": {
  "kernelspec": {
   "display_name": "py311",
   "language": "python",
   "name": "python3"
  },
  "language_info": {
   "codemirror_mode": {
    "name": "ipython",
    "version": 3
   },
   "file_extension": ".py",
   "mimetype": "text/x-python",
   "name": "python",
   "nbconvert_exporter": "python",
   "pygments_lexer": "ipython3",
   "version": "3.11.5"
  }
 },
 "nbformat": 4,
 "nbformat_minor": 2
}
