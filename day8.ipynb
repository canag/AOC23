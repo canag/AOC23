{
 "cells": [
  {
   "cell_type": "code",
   "execution_count": 1,
   "metadata": {},
   "outputs": [
    {
     "name": "stderr",
     "output_type": "stream",
     "text": [
      "  % Total    % Received % Xferd  Average Speed   Time    Time     Time  Current\n",
      "                                 Dload  Upload   Total   Spent    Left  Speed\n",
      "100 13113  100 13113    0     0  31204      0 --:--:-- --:--:-- --:--:-- 31221\n",
      "  % Total    % Received % Xferd  Average Speed   Time    Time     Time  Current\n",
      "                                 Dload  Upload   Total   Spent    Left  Speed\n",
      "100  9963    0  9963    0     0  27394      0 --:--:-- --:--:-- --:--:-- 27446\n"
     ]
    },
    {
     "data": {
      "text/plain": [
       "(756, 9)"
      ]
     },
     "execution_count": 1,
     "metadata": {},
     "output_type": "execute_result"
    }
   ],
   "source": [
    "from tools import read, get_input\n",
    "import numpy as np\n",
    "\n",
    "data, data_test = get_input(8)\n",
    "len(data), len(data_test)"
   ]
  },
  {
   "cell_type": "markdown",
   "metadata": {},
   "source": [
    "### Part 1"
   ]
  },
  {
   "cell_type": "code",
   "execution_count": 2,
   "metadata": {},
   "outputs": [
    {
     "name": "stdout",
     "output_type": "stream",
     "text": [
      "17873\n"
     ]
    }
   ],
   "source": [
    "L = data\n",
    "instructions = L[0]\n",
    "d = {}\n",
    "for line in L[2:]:\n",
    "    origin = line.split('=')[0].strip()\n",
    "    d1 = line.split('=')[1].split(\",\")[0].strip()[1:]\n",
    "    d2 = line.split('=')[1].split(\",\")[1].strip()[:-1]\n",
    "    d[origin] = {'L': d1, 'R': d2}\n",
    "\n",
    "cond = False\n",
    "k = 0\n",
    "current = 'AAA'\n",
    "while cond == False:\n",
    "    instr = instructions[k%len(instructions)]\n",
    "    current = d[current][instr]\n",
    "    k += 1\n",
    "    if current == 'ZZZ':\n",
    "        cond = True\n",
    "print(k)"
   ]
  },
  {
   "cell_type": "markdown",
   "metadata": {},
   "source": [
    "### Part 2"
   ]
  },
  {
   "cell_type": "code",
   "execution_count": 18,
   "metadata": {},
   "outputs": [
    {
     "name": "stdout",
     "output_type": "stream",
     "text": [
      "15746133679061\n"
     ]
    }
   ],
   "source": [
    "import math\n",
    "\n",
    "data, data_test = get_input(8, test_nbr=2, part=2)\n",
    "L = data\n",
    "instructions = L[0]\n",
    "d = {}\n",
    "for line in L[2:]:\n",
    "    origin = line.split('=')[0].strip()\n",
    "    d1 = line.split('=')[1].split(\",\")[0].strip()[1:]\n",
    "    d2 = line.split('=')[1].split(\",\")[1].strip()[:-1]\n",
    "    d[origin] = {'L': d1, 'R': d2}\n",
    "\n",
    "d.keys()\n",
    "\n",
    "start_nodes = [k for k in d.keys() if k[-1] == 'A']\n",
    "res = []\n",
    "for n in start_nodes:\n",
    "    current = n\n",
    "    cond = False\n",
    "    k = 0\n",
    "    while cond == False:\n",
    "        instr = instructions[k%len(instructions)]\n",
    "        current = d[current][instr]\n",
    "        k += 1\n",
    "        if current[-1] == 'Z':\n",
    "            cond = True\n",
    "    res.append(k)\n",
    "print(math.lcm(*res))"
   ]
  },
  {
   "cell_type": "code",
   "execution_count": null,
   "metadata": {},
   "outputs": [],
   "source": []
  }
 ],
 "metadata": {
  "kernelspec": {
   "display_name": "py312",
   "language": "python",
   "name": "python3"
  },
  "language_info": {
   "codemirror_mode": {
    "name": "ipython",
    "version": 3
   },
   "file_extension": ".py",
   "mimetype": "text/x-python",
   "name": "python",
   "nbconvert_exporter": "python",
   "pygments_lexer": "ipython3",
   "version": "3.12.0"
  }
 },
 "nbformat": 4,
 "nbformat_minor": 2
}
