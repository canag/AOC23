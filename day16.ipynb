{
 "cells": [
  {
   "cell_type": "code",
   "execution_count": 1,
   "metadata": {},
   "outputs": [
    {
     "name": "stderr",
     "output_type": "stream",
     "text": [
      "  % Total    % Received % Xferd  Average Speed   Time    Time     Time  Current\n",
      "                                 Dload  Upload   Total   Spent    Left  Speed\n",
      "100 12210  100 12210    0     0  32512      0 --:--:-- --:--:-- --:--:-- 32560\n",
      "  % Total    % Received % Xferd  Average Speed   Time    Time     Time  Current\n",
      "                                 Dload  Upload   Total   Spent    Left  Speed\n",
      "100  8794    0  8794    0     0  25112      0 --:--:-- --:--:-- --:--:-- 25054\n"
     ]
    },
    {
     "data": {
      "text/plain": [
       "(110, 10)"
      ]
     },
     "execution_count": 1,
     "metadata": {},
     "output_type": "execute_result"
    }
   ],
   "source": [
    "from tools import get_input\n",
    "\n",
    "data, data_test = get_input(16)\n",
    "len(data), len(data_test)"
   ]
  },
  {
   "cell_type": "markdown",
   "metadata": {},
   "source": [
    "### Part 1"
   ]
  },
  {
   "cell_type": "code",
   "execution_count": 40,
   "metadata": {},
   "outputs": [
    {
     "data": {
      "text/plain": [
       "8551"
      ]
     },
     "execution_count": 40,
     "metadata": {},
     "output_type": "execute_result"
    }
   ],
   "source": [
    "L = data\n",
    "\n",
    "pos = (0, -1)\n",
    "energized = set()\n",
    "direction = (0, 1)\n",
    "remaining_leads = {(pos, direction)}\n",
    "visited = set()\n",
    "\n",
    "while remaining_leads:\n",
    "    pos, direction = remaining_leads.pop()\n",
    "    cond = True\n",
    "    while cond:\n",
    "        newpos = (pos[0] + direction[0], pos[1] + direction[1])\n",
    "        if newpos[0]>=len(L) or newpos[1]>=len(L[0]) or newpos[0]<0 or newpos[1]<0:\n",
    "            cond = False\n",
    "        else: # we go there\n",
    "            pos = newpos\n",
    "            c = L[pos[0]][pos[1]]\n",
    "            energized.add(pos)\n",
    "            if c =='.' or (c == '|' and direction[1]==0) or (c == '-' and direction[0]==0):\n",
    "                pass\n",
    "            elif c == '-': # must split\n",
    "                direction = (0, 1)\n",
    "                if (pos, (0, -1)) not in visited:\n",
    "                    remaining_leads.add((pos, (0, -1)))\n",
    "            elif c == '|': # must split\n",
    "                direction = (1, 0)\n",
    "                if (pos, (-1, 0)) not in visited:\n",
    "                    remaining_leads.add((pos, (-1, 0)))\n",
    "            elif c == \"/\": # must turn\n",
    "                direction = (-direction[1], -direction[0])\n",
    "            elif c == \"\\\\\": # must turn\n",
    "                direction = (direction[1], direction[0])\n",
    "            if (pos, direction) in visited:\n",
    "                break\n",
    "            else:\n",
    "                visited.add((pos, direction))\n",
    "len(energized)"
   ]
  },
  {
   "cell_type": "markdown",
   "metadata": {},
   "source": [
    "### Part 2"
   ]
  },
  {
   "cell_type": "code",
   "execution_count": 39,
   "metadata": {},
   "outputs": [
    {
     "data": {
      "text/plain": [
       "8754"
      ]
     },
     "execution_count": 39,
     "metadata": {},
     "output_type": "execute_result"
    }
   ],
   "source": [
    "L = data\n",
    "\n",
    "starts = []\n",
    "for i in range(len(L)):\n",
    "    starts += [((i, -1), (0, 1)), ((i, len(L[0])), (0, -1))]\n",
    "for j in range(len(L[0])):\n",
    "    starts += [((-1, j), (1, 0)), ((len(L), j), (-1, 0))]\n",
    "\n",
    "M = {}\n",
    "\n",
    "for start in starts:\n",
    "    pos, direction = start\n",
    "    energized = set()\n",
    "    remaining_leads = {start}\n",
    "    visited = set()\n",
    "    while remaining_leads:\n",
    "        pos, direction = remaining_leads.pop()\n",
    "        cond = True\n",
    "        while cond:\n",
    "            newpos = (pos[0] + direction[0], pos[1] + direction[1])\n",
    "            if newpos[0]>=len(L) or newpos[1]>=len(L[0]) or newpos[0]<0 or newpos[1]<0:\n",
    "                cond = False\n",
    "            else: # we go there\n",
    "                pos = newpos\n",
    "                c = L[pos[0]][pos[1]]\n",
    "                energized.add(pos)\n",
    "                if c =='.' or (c == '|' and direction[1]==0) or (c == '-' and direction[0]==0):\n",
    "                    pass\n",
    "                elif c == '-': # must split\n",
    "                    direction = (0, 1)\n",
    "                    if (pos, (0, -1)) not in visited:\n",
    "                        remaining_leads.add((pos, (0, -1)))\n",
    "                elif c == '|': # must split\n",
    "                    direction = (1, 0)\n",
    "                    if (pos, (-1, 0)) not in visited:\n",
    "                        remaining_leads.add((pos, (-1, 0)))\n",
    "                elif c == \"/\": # must turn\n",
    "                    direction = (-direction[1], -direction[0])\n",
    "                elif c == \"\\\\\": # must turn\n",
    "                    direction = (direction[1], direction[0])\n",
    "                if (pos, direction) in visited:\n",
    "                    break\n",
    "                else:\n",
    "                    visited.add((pos, direction))\n",
    "    M[start] = len(energized)\n",
    "max(M.values())"
   ]
  },
  {
   "cell_type": "code",
   "execution_count": null,
   "metadata": {},
   "outputs": [],
   "source": []
  }
 ],
 "metadata": {
  "kernelspec": {
   "display_name": "py312",
   "language": "python",
   "name": "python3"
  },
  "language_info": {
   "codemirror_mode": {
    "name": "ipython",
    "version": 3
   },
   "file_extension": ".py",
   "mimetype": "text/x-python",
   "name": "python",
   "nbconvert_exporter": "python",
   "pygments_lexer": "ipython3",
   "version": "3.12.0"
  }
 },
 "nbformat": 4,
 "nbformat_minor": 2
}
