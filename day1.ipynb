{
 "cells": [
  {
   "cell_type": "code",
   "execution_count": 1,
   "metadata": {},
   "outputs": [],
   "source": [
    "from tools import read"
   ]
  },
  {
   "cell_type": "code",
   "execution_count": 58,
   "metadata": {},
   "outputs": [
    {
     "data": {
      "text/plain": [
       "1000"
      ]
     },
     "execution_count": 58,
     "metadata": {},
     "output_type": "execute_result"
    }
   ],
   "source": [
    "L = read(1, False)\n",
    "len(L)"
   ]
  },
  {
   "cell_type": "markdown",
   "metadata": {},
   "source": [
    "### Part one"
   ]
  },
  {
   "cell_type": "code",
   "execution_count": 59,
   "metadata": {},
   "outputs": [
    {
     "name": "stdout",
     "output_type": "stream",
     "text": [
      "55123\n"
     ]
    }
   ],
   "source": [
    "sum = 0\n",
    "for line in L:\n",
    "    digits = [s for s in line if s.isdigit()]\n",
    "    sum += int(digits[0] + digits[-1])\n",
    "print(sum)\n"
   ]
  },
  {
   "cell_type": "markdown",
   "metadata": {},
   "source": [
    "### Part two"
   ]
  },
  {
   "cell_type": "code",
   "execution_count": 60,
   "metadata": {},
   "outputs": [],
   "source": [
    "d = {\"one\": \"1\", \"two\": \"2\", \"three\": \"3\", \"four\": \"4\", \"five\": \"5\", \"six\": \"6\", \"seven\": \"7\", \"eight\": \"8\", \"nine\": \"9\"}\n",
    "dinv = {k[::-1]: v for k, v in d.items()}"
   ]
  },
  {
   "cell_type": "code",
   "execution_count": 63,
   "metadata": {},
   "outputs": [
    {
     "name": "stdout",
     "output_type": "stream",
     "text": [
      "55260\n"
     ]
    }
   ],
   "source": [
    "def find_first(line, d):\n",
    "    start = 0\n",
    "    notfound = True\n",
    "    while notfound:\n",
    "        e = line[start:(start+5)]\n",
    "        f = e\n",
    "        for k,v in d.items():\n",
    "            f = f.replace(k, v)\n",
    "        t = [s for s in f if s.isdigit()]\n",
    "        if len(t)>0:\n",
    "            notfound = False\n",
    "            n = int(t[0])\n",
    "        else:\n",
    "            start += 1\n",
    "    return n\n",
    "\n",
    "sum = 0\n",
    "for line in L:\n",
    "    n1 = find_first(line, d)\n",
    "    n2 = find_first(line[::-1], dinv)\n",
    "    sum += 10*n1 + n2\n",
    "print(sum)"
   ]
  },
  {
   "cell_type": "code",
   "execution_count": null,
   "metadata": {},
   "outputs": [],
   "source": []
  }
 ],
 "metadata": {
  "kernelspec": {
   "display_name": "py_38",
   "language": "python",
   "name": "python3"
  },
  "language_info": {
   "codemirror_mode": {
    "name": "ipython",
    "version": 3
   },
   "file_extension": ".py",
   "mimetype": "text/x-python",
   "name": "python",
   "nbconvert_exporter": "python",
   "pygments_lexer": "ipython3",
   "version": "3.8.15"
  }
 },
 "nbformat": 4,
 "nbformat_minor": 2
}
