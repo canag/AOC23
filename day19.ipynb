{
 "cells": [
  {
   "cell_type": "code",
   "execution_count": 3,
   "metadata": {},
   "outputs": [
    {
     "data": {
      "text/plain": [
       "(744, 17)"
      ]
     },
     "execution_count": 3,
     "metadata": {},
     "output_type": "execute_result"
    }
   ],
   "source": [
    "from tools import get_input\n",
    "import numpy as np\n",
    "\n",
    "data, data_test = get_input(19)\n",
    "len(data), len(data_test)"
   ]
  },
  {
   "cell_type": "markdown",
   "metadata": {},
   "source": [
    "### Part 1"
   ]
  },
  {
   "cell_type": "code",
   "execution_count": 4,
   "metadata": {},
   "outputs": [
    {
     "data": {
      "text/plain": [
       "350678"
      ]
     },
     "execution_count": 4,
     "metadata": {},
     "output_type": "execute_result"
    }
   ],
   "source": [
    "def prepare(data):\n",
    "    sep = [i for i, line in enumerate(data) if len(line)==0][0]\n",
    "    system = data[:sep]\n",
    "    messages = data[sep+1:]\n",
    "\n",
    "    list_messages = []\n",
    "    for m in messages:\n",
    "        d = {}\n",
    "        for s in m[1:-1].split(\",\"):\n",
    "            k, v = s.split(\"=\")\n",
    "            d[k] = int(v)\n",
    "        list_messages.append(d)\n",
    "    \n",
    "    d_system = {}\n",
    "    for wf in system:\n",
    "        name = wf.split(\"{\")[0].strip()\n",
    "        rules = wf.split(\"{\")[1][:-1].split(\",\")[:-1]\n",
    "        default = wf.split(\"{\")[1][:-1].split(\",\")[-1]\n",
    "        d_system[name] = (rules, default)\n",
    "    \n",
    "    return d_system, list_messages\n",
    "\n",
    "def pass_message(m, d):\n",
    "    cond = True\n",
    "    engine = \"in\"\n",
    "    while cond:\n",
    "        rules, default = d[engine]\n",
    "        for rule in rules:\n",
    "            cond, res = rule.split(\":\")\n",
    "            c = cond[0]\n",
    "            cond = f\"m['{c}']\" + cond[1:]\n",
    "            if eval(cond):\n",
    "                engine = res\n",
    "                break\n",
    "        else:\n",
    "            engine = default\n",
    "        #print(engine, end=' ')\n",
    "        cond = engine not in {\"A\", \"R\"}\n",
    "    return engine\n",
    "\n",
    "d_system, list_messages = prepare(data)\n",
    "S = 0\n",
    "for m in list_messages:\n",
    "    if pass_message(m, d_system)=='A':\n",
    "        S += sum(m.values())\n",
    "S"
   ]
  },
  {
   "cell_type": "markdown",
   "metadata": {},
   "source": [
    "### Part 2"
   ]
  },
  {
   "cell_type": "code",
   "execution_count": null,
   "metadata": {},
   "outputs": [],
   "source": [
    "def split_list(xlist, cond, val):\n",
    "    '''\n",
    "    function that splits a list of intervals into two lists\n",
    "    of intervals, one that satisfies the condition and one that does not\n",
    "    '''\n",
    "\n",
    "    list_true = []\n",
    "    list_false = []\n",
    "    if cond == \">\":\n",
    "        for (x1, x2) in xlist:\n",
    "            if x1 > val:\n",
    "                list_true.append((x1, x2))\n",
    "            elif x2 > val:\n",
    "                list_true.append((val+1, x2))\n",
    "                list_false.append((x1, val))\n",
    "            else:\n",
    "                list_false.append((x1, x2))\n",
    "    elif cond == \"<\":\n",
    "        for (x1, x2) in xlist:\n",
    "            if x2 < val:\n",
    "                list_true.append((x1, x2))\n",
    "            elif x1 < val:\n",
    "                list_true.append((x1, val-1))\n",
    "                list_false.append((val, x2))\n",
    "            else:\n",
    "                list_false.append((x1, x2))\n",
    "    return list_true, list_false"
   ]
  },
  {
   "cell_type": "code",
   "execution_count": 19,
   "metadata": {},
   "outputs": [
    {
     "data": {
      "text/plain": [
       "124831893423809"
      ]
     },
     "execution_count": 19,
     "metadata": {},
     "output_type": "execute_result"
    }
   ],
   "source": [
    "def count_accepted(node, x_list, m_list, a_list, s_list, d):\n",
    "    if node=='A':\n",
    "        nx = sum([x[1]-x[0]+1 for x in x_list])\n",
    "        nm = sum([m[1]-m[0]+1 for m in m_list])\n",
    "        na = sum([a[1]-a[0]+1 for a in a_list])\n",
    "        ns = sum([s[1]-s[0]+1 for s in s_list])\n",
    "        return nx*nm*na*ns\n",
    "    elif node=='R':\n",
    "        return 0\n",
    "    else:\n",
    "        res = 0\n",
    "        rules, default = d[node]\n",
    "        for rule in rules:\n",
    "            cond, nextnode = rule.split(\":\")\n",
    "            c = cond[0]\n",
    "            comp = cond[1]\n",
    "            val = int(cond[2:])\n",
    "            if c=='x':\n",
    "                x_true, x_list = split_list(x_list, comp, val)\n",
    "                res += count_accepted(nextnode, x_true, m_list, a_list, s_list, d)\n",
    "            elif c=='m':\n",
    "                m_true, m_list = split_list(m_list, comp, val)\n",
    "                res += count_accepted(nextnode, x_list, m_true, a_list, s_list, d)\n",
    "            elif c=='a':\n",
    "                a_true, a_list = split_list(a_list, comp, val)\n",
    "                res += count_accepted(nextnode, x_list, m_list, a_true, s_list, d)\n",
    "            elif c=='s':\n",
    "                s_true, s_list = split_list(s_list, comp, val)\n",
    "                res += count_accepted(nextnode, x_list, m_list, a_list, s_true, d)\n",
    "        res += count_accepted(default, x_list, m_list, a_list, s_list, d)\n",
    "        return res    \n",
    "            \n",
    "N = 4000\n",
    "x_list = [(1, N)]\n",
    "m_list = [(1, N)]\n",
    "a_list = [(1, N)]\n",
    "s_list = [(1, N)]\n",
    "\n",
    "node = 'in'\n",
    "\n",
    "d_system, _ = prepare(data)\n",
    "\n",
    "count_accepted(node, x_list, m_list, a_list, s_list, d_system)"
   ]
  },
  {
   "cell_type": "code",
   "execution_count": null,
   "metadata": {},
   "outputs": [],
   "source": []
  }
 ],
 "metadata": {
  "kernelspec": {
   "display_name": "py311",
   "language": "python",
   "name": "python3"
  },
  "language_info": {
   "codemirror_mode": {
    "name": "ipython",
    "version": 3
   },
   "file_extension": ".py",
   "mimetype": "text/x-python",
   "name": "python",
   "nbconvert_exporter": "python",
   "pygments_lexer": "ipython3",
   "version": "3.11.5"
  }
 },
 "nbformat": 4,
 "nbformat_minor": 2
}
