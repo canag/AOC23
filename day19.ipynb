{
 "cells": [
  {
   "cell_type": "code",
   "execution_count": 1,
   "metadata": {},
   "outputs": [
    {
     "data": {
      "text/plain": [
       "(744, 17)"
      ]
     },
     "execution_count": 1,
     "metadata": {},
     "output_type": "execute_result"
    }
   ],
   "source": [
    "from tools import get_input\n",
    "import numpy as np\n",
    "\n",
    "data, data_test = get_input(19)\n",
    "len(data), len(data_test)"
   ]
  },
  {
   "cell_type": "code",
   "execution_count": 49,
   "metadata": {},
   "outputs": [
    {
     "data": {
      "text/plain": [
       "350678"
      ]
     },
     "execution_count": 49,
     "metadata": {},
     "output_type": "execute_result"
    }
   ],
   "source": [
    "def prepare(data):\n",
    "    sep = [i for i, line in enumerate(data) if len(line)==0][0]\n",
    "    system = data[:sep]\n",
    "    messages = data[sep+1:]\n",
    "\n",
    "    list_messages = []\n",
    "    for m in messages:\n",
    "        d = {}\n",
    "        for s in m[1:-1].split(\",\"):\n",
    "            k, v = s.split(\"=\")\n",
    "            d[k] = int(v)\n",
    "        list_messages.append(d)\n",
    "    \n",
    "    d_system = {}\n",
    "    for wf in system:\n",
    "        name = wf.split(\"{\")[0].strip()\n",
    "        rules = wf.split(\"{\")[1][:-1].split(\",\")[:-1]\n",
    "        default = wf.split(\"{\")[1][:-1].split(\",\")[-1]\n",
    "        d_system[name] = (rules, default)\n",
    "    \n",
    "    return d_system, list_messages\n",
    "\n",
    "def pass_message(m, d):\n",
    "    cond = True\n",
    "    engine = \"in\"\n",
    "    while cond:\n",
    "        rules, default = d[engine]\n",
    "        for rule in rules:\n",
    "            cond, res = rule.split(\":\")\n",
    "            c = cond[0]\n",
    "            cond = f\"m['{c}']\" + cond[1:]\n",
    "            if eval(cond):\n",
    "                engine = res\n",
    "                break\n",
    "        else:\n",
    "            engine = default\n",
    "        #print(engine, end=' ')\n",
    "        cond = engine not in {\"A\", \"R\"}\n",
    "    return engine\n",
    "\n",
    "d_system, list_messages = prepare(data)\n",
    "S = 0\n",
    "for m in list_messages:\n",
    "    if pass_message(m, d_system)=='A':\n",
    "        S += sum(m.values())\n",
    "S"
   ]
  },
  {
   "cell_type": "code",
   "execution_count": null,
   "metadata": {},
   "outputs": [],
   "source": []
  }
 ],
 "metadata": {
  "kernelspec": {
   "display_name": "py311",
   "language": "python",
   "name": "python3"
  },
  "language_info": {
   "codemirror_mode": {
    "name": "ipython",
    "version": 3
   },
   "file_extension": ".py",
   "mimetype": "text/x-python",
   "name": "python",
   "nbconvert_exporter": "python",
   "pygments_lexer": "ipython3",
   "version": "3.11.5"
  }
 },
 "nbformat": 4,
 "nbformat_minor": 2
}
